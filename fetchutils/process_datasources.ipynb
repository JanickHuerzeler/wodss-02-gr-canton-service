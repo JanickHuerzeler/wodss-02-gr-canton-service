{
 "metadata": {
  "language_info": {
   "codemirror_mode": {
    "name": "ipython",
    "version": 3
   },
   "file_extension": ".py",
   "mimetype": "text/x-python",
   "name": "python",
   "nbconvert_exporter": "python",
   "pygments_lexer": "ipython3",
   "version": "3.9.2-final"
  },
  "orig_nbformat": 2,
  "kernelspec": {
   "name": "python3",
   "display_name": "Python 3",
   "language": "python"
  }
 },
 "nbformat": 4,
 "nbformat_minor": 2,
 "cells": [
  {
   "cell_type": "code",
   "execution_count": 1,
   "metadata": {},
   "outputs": [],
   "source": [
    "import pandas as pd"
   ]
  },
  {
   "cell_type": "code",
   "execution_count": 2,
   "metadata": {},
   "outputs": [],
   "source": [
    "import fetch_gr as fgr"
   ]
  },
  {
   "cell_type": "code",
   "execution_count": 3,
   "metadata": {
    "tags": []
   },
   "outputs": [
    {
     "output_type": "execute_result",
     "data": {
      "text/plain": [
       "          Datum                       Region  Neue_Faelle\n",
       "0    2020-02-26                       Albula            0\n",
       "1    2020-02-26                      Bernina            0\n",
       "2    2020-02-26  Engiadina Bassa/Val Müstair            0\n",
       "3    2020-02-26                      Imboden            0\n",
       "4    2020-02-26                    Landquart            0\n",
       "...         ...                          ...          ...\n",
       "1995 2020-08-10                      Imboden            0\n",
       "1996 2020-08-10                    Landquart            0\n",
       "1997 2020-08-10                       Maloja            1\n",
       "1998 2020-08-10                        Moesa            0\n",
       "1999 2020-08-10                      Plessur            2\n",
       "\n",
       "[2000 rows x 3 columns]"
      ],
      "text/html": "<div>\n<style scoped>\n    .dataframe tbody tr th:only-of-type {\n        vertical-align: middle;\n    }\n\n    .dataframe tbody tr th {\n        vertical-align: top;\n    }\n\n    .dataframe thead th {\n        text-align: right;\n    }\n</style>\n<table border=\"1\" class=\"dataframe\">\n  <thead>\n    <tr style=\"text-align: right;\">\n      <th></th>\n      <th>Datum</th>\n      <th>Region</th>\n      <th>Neue_Faelle</th>\n    </tr>\n  </thead>\n  <tbody>\n    <tr>\n      <th>0</th>\n      <td>2020-02-26</td>\n      <td>Albula</td>\n      <td>0</td>\n    </tr>\n    <tr>\n      <th>1</th>\n      <td>2020-02-26</td>\n      <td>Bernina</td>\n      <td>0</td>\n    </tr>\n    <tr>\n      <th>2</th>\n      <td>2020-02-26</td>\n      <td>Engiadina Bassa/Val Müstair</td>\n      <td>0</td>\n    </tr>\n    <tr>\n      <th>3</th>\n      <td>2020-02-26</td>\n      <td>Imboden</td>\n      <td>0</td>\n    </tr>\n    <tr>\n      <th>4</th>\n      <td>2020-02-26</td>\n      <td>Landquart</td>\n      <td>0</td>\n    </tr>\n    <tr>\n      <th>...</th>\n      <td>...</td>\n      <td>...</td>\n      <td>...</td>\n    </tr>\n    <tr>\n      <th>1995</th>\n      <td>2020-08-10</td>\n      <td>Imboden</td>\n      <td>0</td>\n    </tr>\n    <tr>\n      <th>1996</th>\n      <td>2020-08-10</td>\n      <td>Landquart</td>\n      <td>0</td>\n    </tr>\n    <tr>\n      <th>1997</th>\n      <td>2020-08-10</td>\n      <td>Maloja</td>\n      <td>1</td>\n    </tr>\n    <tr>\n      <th>1998</th>\n      <td>2020-08-10</td>\n      <td>Moesa</td>\n      <td>0</td>\n    </tr>\n    <tr>\n      <th>1999</th>\n      <td>2020-08-10</td>\n      <td>Plessur</td>\n      <td>2</td>\n    </tr>\n  </tbody>\n</table>\n<p>2000 rows × 3 columns</p>\n</div>"
     },
     "metadata": {},
     "execution_count": 3
    }
   ],
   "source": [
    "df_cases = fgr.get_canton_data_df()\n",
    "df_cases"
   ]
  },
  {
   "cell_type": "code",
   "execution_count": 4,
   "metadata": {},
   "outputs": [],
   "source": [
    "import fetch_municipalities as fmp"
   ]
  },
  {
   "cell_type": "code",
   "execution_count": 5,
   "metadata": {},
   "outputs": [
    {
     "output_type": "execute_result",
     "data": {
      "text/plain": [
       "              Gemeindename        Bezirksname Kanton\n",
       "BFS_Nr                                              \n",
       "3542          Albula/Alvra             Albula     GR\n",
       "3701                Andeer            Viamala     GR\n",
       "3921                 Arosa            Plessur     GR\n",
       "3681                 Avers            Viamala     GR\n",
       "3781                 Bever             Maloja     GR\n",
       "...                    ...                ...    ...\n",
       "3714             Rheinwald            Viamala     GR\n",
       "3785    La Punt Chamues-ch             Maloja     GR\n",
       "3901                  Chur            Plessur     GR\n",
       "3871              Klosters  Prättigau / Davos     GR\n",
       "3715    Muntogna da Schons            Viamala     GR\n",
       "\n",
       "[101 rows x 3 columns]"
      ],
      "text/html": "<div>\n<style scoped>\n    .dataframe tbody tr th:only-of-type {\n        vertical-align: middle;\n    }\n\n    .dataframe tbody tr th {\n        vertical-align: top;\n    }\n\n    .dataframe thead th {\n        text-align: right;\n    }\n</style>\n<table border=\"1\" class=\"dataframe\">\n  <thead>\n    <tr style=\"text-align: right;\">\n      <th></th>\n      <th>Gemeindename</th>\n      <th>Bezirksname</th>\n      <th>Kanton</th>\n    </tr>\n    <tr>\n      <th>BFS_Nr</th>\n      <th></th>\n      <th></th>\n      <th></th>\n    </tr>\n  </thead>\n  <tbody>\n    <tr>\n      <th>3542</th>\n      <td>Albula/Alvra</td>\n      <td>Albula</td>\n      <td>GR</td>\n    </tr>\n    <tr>\n      <th>3701</th>\n      <td>Andeer</td>\n      <td>Viamala</td>\n      <td>GR</td>\n    </tr>\n    <tr>\n      <th>3921</th>\n      <td>Arosa</td>\n      <td>Plessur</td>\n      <td>GR</td>\n    </tr>\n    <tr>\n      <th>3681</th>\n      <td>Avers</td>\n      <td>Viamala</td>\n      <td>GR</td>\n    </tr>\n    <tr>\n      <th>3781</th>\n      <td>Bever</td>\n      <td>Maloja</td>\n      <td>GR</td>\n    </tr>\n    <tr>\n      <th>...</th>\n      <td>...</td>\n      <td>...</td>\n      <td>...</td>\n    </tr>\n    <tr>\n      <th>3714</th>\n      <td>Rheinwald</td>\n      <td>Viamala</td>\n      <td>GR</td>\n    </tr>\n    <tr>\n      <th>3785</th>\n      <td>La Punt Chamues-ch</td>\n      <td>Maloja</td>\n      <td>GR</td>\n    </tr>\n    <tr>\n      <th>3901</th>\n      <td>Chur</td>\n      <td>Plessur</td>\n      <td>GR</td>\n    </tr>\n    <tr>\n      <th>3871</th>\n      <td>Klosters</td>\n      <td>Prättigau / Davos</td>\n      <td>GR</td>\n    </tr>\n    <tr>\n      <th>3715</th>\n      <td>Muntogna da Schons</td>\n      <td>Viamala</td>\n      <td>GR</td>\n    </tr>\n  </tbody>\n</table>\n<p>101 rows × 3 columns</p>\n</div>"
     },
     "metadata": {},
     "execution_count": 5
    }
   ],
   "source": [
    "df_municipalities = fmp.get_municipalities_df()\n",
    "df_municipalities"
   ]
  },
  {
   "cell_type": "code",
   "execution_count": 6,
   "metadata": {},
   "outputs": [],
   "source": [
    "import fetch_cantons_metadata as fcm"
   ]
  },
  {
   "cell_type": "code",
   "execution_count": 7,
   "metadata": {},
   "outputs": [
    {
     "output_type": "execute_result",
     "data": {
      "text/plain": [
       "              Gemeindename Einwohner Gesamtflaeche_in_km2\n",
       "BFS_Nr                                                   \n",
       "1          Aeugst am Albis      1982                 7.91\n",
       "2       Affoltern am Albis     12229                10.59\n",
       "3               Bonstetten      5548                 7.43\n",
       "4          Hausen am Albis      3701                 13.6\n",
       "5                 Hedingen      3734                 6.53\n",
       "...                    ...       ...                  ...\n",
       "6806          Vendlincourt       540                 9.15\n",
       "6807         Basse-Allaine      1230                23.04\n",
       "6808         Clos du Doubs      1286                61.75\n",
       "6809           Haute-Ajoie      1095                40.93\n",
       "6810            La Baroche      1162                31.07\n",
       "\n",
       "[2202 rows x 3 columns]"
      ],
      "text/html": "<div>\n<style scoped>\n    .dataframe tbody tr th:only-of-type {\n        vertical-align: middle;\n    }\n\n    .dataframe tbody tr th {\n        vertical-align: top;\n    }\n\n    .dataframe thead th {\n        text-align: right;\n    }\n</style>\n<table border=\"1\" class=\"dataframe\">\n  <thead>\n    <tr style=\"text-align: right;\">\n      <th></th>\n      <th>Gemeindename</th>\n      <th>Einwohner</th>\n      <th>Gesamtflaeche_in_km2</th>\n    </tr>\n    <tr>\n      <th>BFS_Nr</th>\n      <th></th>\n      <th></th>\n      <th></th>\n    </tr>\n  </thead>\n  <tbody>\n    <tr>\n      <th>1</th>\n      <td>Aeugst am Albis</td>\n      <td>1982</td>\n      <td>7.91</td>\n    </tr>\n    <tr>\n      <th>2</th>\n      <td>Affoltern am Albis</td>\n      <td>12229</td>\n      <td>10.59</td>\n    </tr>\n    <tr>\n      <th>3</th>\n      <td>Bonstetten</td>\n      <td>5548</td>\n      <td>7.43</td>\n    </tr>\n    <tr>\n      <th>4</th>\n      <td>Hausen am Albis</td>\n      <td>3701</td>\n      <td>13.6</td>\n    </tr>\n    <tr>\n      <th>5</th>\n      <td>Hedingen</td>\n      <td>3734</td>\n      <td>6.53</td>\n    </tr>\n    <tr>\n      <th>...</th>\n      <td>...</td>\n      <td>...</td>\n      <td>...</td>\n    </tr>\n    <tr>\n      <th>6806</th>\n      <td>Vendlincourt</td>\n      <td>540</td>\n      <td>9.15</td>\n    </tr>\n    <tr>\n      <th>6807</th>\n      <td>Basse-Allaine</td>\n      <td>1230</td>\n      <td>23.04</td>\n    </tr>\n    <tr>\n      <th>6808</th>\n      <td>Clos du Doubs</td>\n      <td>1286</td>\n      <td>61.75</td>\n    </tr>\n    <tr>\n      <th>6809</th>\n      <td>Haute-Ajoie</td>\n      <td>1095</td>\n      <td>40.93</td>\n    </tr>\n    <tr>\n      <th>6810</th>\n      <td>La Baroche</td>\n      <td>1162</td>\n      <td>31.07</td>\n    </tr>\n  </tbody>\n</table>\n<p>2202 rows × 3 columns</p>\n</div>"
     },
     "metadata": {},
     "execution_count": 7
    }
   ],
   "source": [
    "df_population_for_bfsNr = fcm.get_cantons_metadata_df()\n",
    "df_population_for_bfsNr"
   ]
  },
  {
   "cell_type": "code",
   "execution_count": 8,
   "metadata": {},
   "outputs": [
    {
     "output_type": "execute_result",
     "data": {
      "text/plain": [
       "       Einwohner Gesamtflaeche_in_km2       Gemeindename Bezirksname Kanton\n",
       "BFS_Nr                                                                     \n",
       "3506        2780                42.51        Vaz/Obervaz      Albula     GR\n",
       "3513         535                21.81       Lantsch/Lenz      Albula     GR\n",
       "3514         234                11.35     Schmitten (GR)      Albula     GR\n",
       "3542        1310                93.93       Albula/Alvra      Albula     GR\n",
       "3543        2356               323.77             Surses      Albula     GR\n",
       "...          ...                  ...                ...         ...    ...\n",
       "3983         362               136.22    Medel (Lucmagn)    Surselva     GR\n",
       "3985        1158               101.88            Sumvitg    Surselva     GR\n",
       "3986        1238               133.91           Tujetsch    Surselva     GR\n",
       "3987        1170                 51.9               Trun    Surselva     GR\n",
       "3988        1188                70.36  Obersaxen Mundaun    Surselva     GR\n",
       "\n",
       "[100 rows x 5 columns]"
      ],
      "text/html": "<div>\n<style scoped>\n    .dataframe tbody tr th:only-of-type {\n        vertical-align: middle;\n    }\n\n    .dataframe tbody tr th {\n        vertical-align: top;\n    }\n\n    .dataframe thead th {\n        text-align: right;\n    }\n</style>\n<table border=\"1\" class=\"dataframe\">\n  <thead>\n    <tr style=\"text-align: right;\">\n      <th></th>\n      <th>Einwohner</th>\n      <th>Gesamtflaeche_in_km2</th>\n      <th>Gemeindename</th>\n      <th>Bezirksname</th>\n      <th>Kanton</th>\n    </tr>\n    <tr>\n      <th>BFS_Nr</th>\n      <th></th>\n      <th></th>\n      <th></th>\n      <th></th>\n      <th></th>\n    </tr>\n  </thead>\n  <tbody>\n    <tr>\n      <th>3506</th>\n      <td>2780</td>\n      <td>42.51</td>\n      <td>Vaz/Obervaz</td>\n      <td>Albula</td>\n      <td>GR</td>\n    </tr>\n    <tr>\n      <th>3513</th>\n      <td>535</td>\n      <td>21.81</td>\n      <td>Lantsch/Lenz</td>\n      <td>Albula</td>\n      <td>GR</td>\n    </tr>\n    <tr>\n      <th>3514</th>\n      <td>234</td>\n      <td>11.35</td>\n      <td>Schmitten (GR)</td>\n      <td>Albula</td>\n      <td>GR</td>\n    </tr>\n    <tr>\n      <th>3542</th>\n      <td>1310</td>\n      <td>93.93</td>\n      <td>Albula/Alvra</td>\n      <td>Albula</td>\n      <td>GR</td>\n    </tr>\n    <tr>\n      <th>3543</th>\n      <td>2356</td>\n      <td>323.77</td>\n      <td>Surses</td>\n      <td>Albula</td>\n      <td>GR</td>\n    </tr>\n    <tr>\n      <th>...</th>\n      <td>...</td>\n      <td>...</td>\n      <td>...</td>\n      <td>...</td>\n      <td>...</td>\n    </tr>\n    <tr>\n      <th>3983</th>\n      <td>362</td>\n      <td>136.22</td>\n      <td>Medel (Lucmagn)</td>\n      <td>Surselva</td>\n      <td>GR</td>\n    </tr>\n    <tr>\n      <th>3985</th>\n      <td>1158</td>\n      <td>101.88</td>\n      <td>Sumvitg</td>\n      <td>Surselva</td>\n      <td>GR</td>\n    </tr>\n    <tr>\n      <th>3986</th>\n      <td>1238</td>\n      <td>133.91</td>\n      <td>Tujetsch</td>\n      <td>Surselva</td>\n      <td>GR</td>\n    </tr>\n    <tr>\n      <th>3987</th>\n      <td>1170</td>\n      <td>51.9</td>\n      <td>Trun</td>\n      <td>Surselva</td>\n      <td>GR</td>\n    </tr>\n    <tr>\n      <th>3988</th>\n      <td>1188</td>\n      <td>70.36</td>\n      <td>Obersaxen Mundaun</td>\n      <td>Surselva</td>\n      <td>GR</td>\n    </tr>\n  </tbody>\n</table>\n<p>100 rows × 5 columns</p>\n</div>"
     },
     "metadata": {},
     "execution_count": 8
    }
   ],
   "source": [
    "df_all = pd.merge(df_population_for_bfsNr, df_municipalities , how='inner', left_on='BFS_Nr', right_on='BFS_Nr')\n",
    "# df_all = df.loc[:,~df.columns.duplicated()]\n",
    "df_all.rename(columns={'Gemeindename_y': 'Gemeindename'}, inplace=True)\n",
    "df_all.drop('Gemeindename_x', axis=1, inplace=True)\n",
    "df_all"
   ]
  },
  {
   "source": [
    "## Mapping von Region auf Bezirksnamen"
   ],
   "cell_type": "markdown",
   "metadata": {}
  },
  {
   "cell_type": "code",
   "execution_count": 9,
   "metadata": {},
   "outputs": [
    {
     "output_type": "stream",
     "name": "stdout",
     "text": [
      "{'Landquart', 'Prättigau / Davos', 'Engiadina B./Val Müstair', 'Albula', 'Bernina', 'Imboden', 'Moesa', 'Surselva', 'Maloja', 'Plessur', 'Viamala'}\n11\n"
     ]
    }
   ],
   "source": [
    "set_bezirksnamen = set(sorted(df_municipalities['Bezirksname'])) # From Municipality Stammdaten\n",
    "print(set_bezirksnamen)\n",
    "print(len(set_bezirksnamen))"
   ]
  },
  {
   "cell_type": "code",
   "execution_count": 10,
   "metadata": {},
   "outputs": [
    {
     "output_type": "stream",
     "name": "stdout",
     "text": [
      "{'Engiadina Bassa/Val Müstair', 'Landquart', 'ohne Wohnsitz', 'Albula', 'Bernina', 'Imboden', 'Moesa', 'Surselva', 'Maloja', 'Plessur', 'Prättigau/Davos', 'Viamala'}\n12\n"
     ]
    }
   ],
   "source": [
    "set_regionen = set(sorted(df_cases['Region'])) # From Cases, i.e. the region a case belongs to\n",
    "print(set_regionen)\n",
    "print(len(set_regionen))"
   ]
  },
  {
   "source": [
    "### Was machen wir mit 'ohne Wohnsitz'? \n",
    "Um die Kantonszahlen nicht zu verfälschen, müssten sie evtl. auch verteilt werden auf die Bezirke..."
   ],
   "cell_type": "markdown",
   "metadata": {}
  },
  {
   "cell_type": "code",
   "execution_count": 11,
   "metadata": {},
   "outputs": [],
   "source": [
    "# Region (from Cases): Bezirksname (from Municipalities)\n",
    "dict_bezirks_mapping = {'Albula': 'Albula',\n",
    " 'Bernina': 'Bernina',\n",
    " 'Engiadina Bassa/Val Müstair': 'Engiadina B./Val Müstair',\n",
    " 'Imboden': 'Imboden',\n",
    " 'Landquart': 'Landquart',\n",
    " 'Maloja': 'Maloja',\n",
    " 'Moesa': 'Moesa',\n",
    " 'Plessur': 'Plessur',\n",
    " 'Prättigau/Davos': 'Prättigau / Davos',\n",
    " 'Surselva': 'Surselva',\n",
    " 'Viamala': 'Viamala'}"
   ]
  },
  {
   "source": [
    "Neue Spalte 'Bezirksname' welche anhand 'Region' gemapped wurde:"
   ],
   "cell_type": "markdown",
   "metadata": {}
  },
  {
   "cell_type": "code",
   "execution_count": 13,
   "metadata": {},
   "outputs": [
    {
     "output_type": "execute_result",
     "data": {
      "text/plain": [
       "          Datum                       Region  Neue_Faelle  \\\n",
       "0    2020-02-26                       Albula            0   \n",
       "1    2020-02-26                      Bernina            0   \n",
       "2    2020-02-26  Engiadina Bassa/Val Müstair            0   \n",
       "3    2020-02-26                      Imboden            0   \n",
       "4    2020-02-26                    Landquart            0   \n",
       "...         ...                          ...          ...   \n",
       "1995 2020-08-10                      Imboden            0   \n",
       "1996 2020-08-10                    Landquart            0   \n",
       "1997 2020-08-10                       Maloja            1   \n",
       "1998 2020-08-10                        Moesa            0   \n",
       "1999 2020-08-10                      Plessur            2   \n",
       "\n",
       "                   Bezirksname  \n",
       "0                       Albula  \n",
       "1                      Bernina  \n",
       "2     Engiadina B./Val Müstair  \n",
       "3                      Imboden  \n",
       "4                    Landquart  \n",
       "...                        ...  \n",
       "1995                   Imboden  \n",
       "1996                 Landquart  \n",
       "1997                    Maloja  \n",
       "1998                     Moesa  \n",
       "1999                   Plessur  \n",
       "\n",
       "[2000 rows x 4 columns]"
      ],
      "text/html": "<div>\n<style scoped>\n    .dataframe tbody tr th:only-of-type {\n        vertical-align: middle;\n    }\n\n    .dataframe tbody tr th {\n        vertical-align: top;\n    }\n\n    .dataframe thead th {\n        text-align: right;\n    }\n</style>\n<table border=\"1\" class=\"dataframe\">\n  <thead>\n    <tr style=\"text-align: right;\">\n      <th></th>\n      <th>Datum</th>\n      <th>Region</th>\n      <th>Neue_Faelle</th>\n      <th>Bezirksname</th>\n    </tr>\n  </thead>\n  <tbody>\n    <tr>\n      <th>0</th>\n      <td>2020-02-26</td>\n      <td>Albula</td>\n      <td>0</td>\n      <td>Albula</td>\n    </tr>\n    <tr>\n      <th>1</th>\n      <td>2020-02-26</td>\n      <td>Bernina</td>\n      <td>0</td>\n      <td>Bernina</td>\n    </tr>\n    <tr>\n      <th>2</th>\n      <td>2020-02-26</td>\n      <td>Engiadina Bassa/Val Müstair</td>\n      <td>0</td>\n      <td>Engiadina B./Val Müstair</td>\n    </tr>\n    <tr>\n      <th>3</th>\n      <td>2020-02-26</td>\n      <td>Imboden</td>\n      <td>0</td>\n      <td>Imboden</td>\n    </tr>\n    <tr>\n      <th>4</th>\n      <td>2020-02-26</td>\n      <td>Landquart</td>\n      <td>0</td>\n      <td>Landquart</td>\n    </tr>\n    <tr>\n      <th>...</th>\n      <td>...</td>\n      <td>...</td>\n      <td>...</td>\n      <td>...</td>\n    </tr>\n    <tr>\n      <th>1995</th>\n      <td>2020-08-10</td>\n      <td>Imboden</td>\n      <td>0</td>\n      <td>Imboden</td>\n    </tr>\n    <tr>\n      <th>1996</th>\n      <td>2020-08-10</td>\n      <td>Landquart</td>\n      <td>0</td>\n      <td>Landquart</td>\n    </tr>\n    <tr>\n      <th>1997</th>\n      <td>2020-08-10</td>\n      <td>Maloja</td>\n      <td>1</td>\n      <td>Maloja</td>\n    </tr>\n    <tr>\n      <th>1998</th>\n      <td>2020-08-10</td>\n      <td>Moesa</td>\n      <td>0</td>\n      <td>Moesa</td>\n    </tr>\n    <tr>\n      <th>1999</th>\n      <td>2020-08-10</td>\n      <td>Plessur</td>\n      <td>2</td>\n      <td>Plessur</td>\n    </tr>\n  </tbody>\n</table>\n<p>2000 rows × 4 columns</p>\n</div>"
     },
     "metadata": {},
     "execution_count": 13
    }
   ],
   "source": [
    "df_cases['Bezirksname'] = df_cases['Region'].apply(lambda region: dict_bezirks_mapping.get(region))\n",
    "df_cases"
   ]
  },
  {
   "source": [
    " Nicht gefundene Einträge (z.B. 'ohne Wohnsitz') werden mit None abgefüllt:"
   ],
   "cell_type": "markdown",
   "metadata": {}
  },
  {
   "cell_type": "code",
   "execution_count": 14,
   "metadata": {},
   "outputs": [
    {
     "output_type": "display_data",
     "data": {
      "text/plain": "          Datum         Region  Neue_Faelle Bezirksname\n11   2020-02-26  ohne Wohnsitz            2        None\n23   2020-02-27  ohne Wohnsitz            0        None\n35   2020-02-28  ohne Wohnsitz            4        None\n47   2020-02-29  ohne Wohnsitz            0        None\n59   2020-03-01  ohne Wohnsitz            0        None\n...         ...            ...          ...         ...\n1943 2020-08-05  ohne Wohnsitz            0        None\n1955 2020-08-06  ohne Wohnsitz            1        None\n1967 2020-08-07  ohne Wohnsitz            0        None\n1979 2020-08-08  ohne Wohnsitz            1        None\n1991 2020-08-09  ohne Wohnsitz            0        None\n\n[166 rows x 4 columns]",
      "text/html": "<div>\n<style scoped>\n    .dataframe tbody tr th:only-of-type {\n        vertical-align: middle;\n    }\n\n    .dataframe tbody tr th {\n        vertical-align: top;\n    }\n\n    .dataframe thead th {\n        text-align: right;\n    }\n</style>\n<table border=\"1\" class=\"dataframe\">\n  <thead>\n    <tr style=\"text-align: right;\">\n      <th></th>\n      <th>Datum</th>\n      <th>Region</th>\n      <th>Neue_Faelle</th>\n      <th>Bezirksname</th>\n    </tr>\n  </thead>\n  <tbody>\n    <tr>\n      <th>11</th>\n      <td>2020-02-26</td>\n      <td>ohne Wohnsitz</td>\n      <td>2</td>\n      <td>None</td>\n    </tr>\n    <tr>\n      <th>23</th>\n      <td>2020-02-27</td>\n      <td>ohne Wohnsitz</td>\n      <td>0</td>\n      <td>None</td>\n    </tr>\n    <tr>\n      <th>35</th>\n      <td>2020-02-28</td>\n      <td>ohne Wohnsitz</td>\n      <td>4</td>\n      <td>None</td>\n    </tr>\n    <tr>\n      <th>47</th>\n      <td>2020-02-29</td>\n      <td>ohne Wohnsitz</td>\n      <td>0</td>\n      <td>None</td>\n    </tr>\n    <tr>\n      <th>59</th>\n      <td>2020-03-01</td>\n      <td>ohne Wohnsitz</td>\n      <td>0</td>\n      <td>None</td>\n    </tr>\n    <tr>\n      <th>...</th>\n      <td>...</td>\n      <td>...</td>\n      <td>...</td>\n      <td>...</td>\n    </tr>\n    <tr>\n      <th>1943</th>\n      <td>2020-08-05</td>\n      <td>ohne Wohnsitz</td>\n      <td>0</td>\n      <td>None</td>\n    </tr>\n    <tr>\n      <th>1955</th>\n      <td>2020-08-06</td>\n      <td>ohne Wohnsitz</td>\n      <td>1</td>\n      <td>None</td>\n    </tr>\n    <tr>\n      <th>1967</th>\n      <td>2020-08-07</td>\n      <td>ohne Wohnsitz</td>\n      <td>0</td>\n      <td>None</td>\n    </tr>\n    <tr>\n      <th>1979</th>\n      <td>2020-08-08</td>\n      <td>ohne Wohnsitz</td>\n      <td>1</td>\n      <td>None</td>\n    </tr>\n    <tr>\n      <th>1991</th>\n      <td>2020-08-09</td>\n      <td>ohne Wohnsitz</td>\n      <td>0</td>\n      <td>None</td>\n    </tr>\n  </tbody>\n</table>\n<p>166 rows × 4 columns</p>\n</div>"
     },
     "metadata": {}
    },
    {
     "output_type": "stream",
     "name": "stdout",
     "text": [
      "Sum:  Neue_Faelle    67\nBezirksname     0\ndtype: object\n"
     ]
    }
   ],
   "source": [
    "display(df_cases[df_cases['Bezirksname'].isnull()])\n",
    "print(df_cases[df_cases['Bezirksname'].isnull()].sum())"
   ]
  },
  {
   "source": [
    "## Marcos ex-Müll"
   ],
   "cell_type": "markdown",
   "metadata": {}
  },
  {
   "cell_type": "code",
   "execution_count": 22,
   "metadata": {},
   "outputs": [],
   "source": [
    "df_all['BFS_Nr'] = df_all.index"
   ]
  },
  {
   "cell_type": "code",
   "execution_count": 23,
   "metadata": {},
   "outputs": [
    {
     "output_type": "execute_result",
     "data": {
      "text/plain": [
       "      Einwohner Gesamtflaeche_in_km2 Gemeindename Bezirksname Kanton  BFS_Nr  \\\n",
       "0          2780                42.51  Vaz/Obervaz      Albula     GR    3506   \n",
       "1          2780                42.51  Vaz/Obervaz      Albula     GR    3506   \n",
       "2          2780                42.51  Vaz/Obervaz      Albula     GR    3506   \n",
       "3          2780                42.51  Vaz/Obervaz      Albula     GR    3506   \n",
       "4          2780                42.51  Vaz/Obervaz      Albula     GR    3506   \n",
       "...         ...                  ...          ...         ...    ...     ...   \n",
       "16651      8889                18.86    Landquart   Landquart     GR    3955   \n",
       "16652      8889                18.86    Landquart   Landquart     GR    3955   \n",
       "16653      8889                18.86    Landquart   Landquart     GR    3955   \n",
       "16654      8889                18.86    Landquart   Landquart     GR    3955   \n",
       "16655      8889                18.86    Landquart   Landquart     GR    3955   \n",
       "\n",
       "           Datum     Region  Neue_Faelle  \n",
       "0     2020-02-26     Albula            0  \n",
       "1     2020-02-27     Albula            0  \n",
       "2     2020-02-28     Albula            0  \n",
       "3     2020-02-29     Albula            0  \n",
       "4     2020-03-01     Albula            0  \n",
       "...          ...        ...          ...  \n",
       "16651 2020-08-06  Landquart            0  \n",
       "16652 2020-08-07  Landquart            0  \n",
       "16653 2020-08-08  Landquart            0  \n",
       "16654 2020-08-09  Landquart            0  \n",
       "16655 2020-08-10  Landquart            0  \n",
       "\n",
       "[16656 rows x 9 columns]"
      ],
      "text/html": "<div>\n<style scoped>\n    .dataframe tbody tr th:only-of-type {\n        vertical-align: middle;\n    }\n\n    .dataframe tbody tr th {\n        vertical-align: top;\n    }\n\n    .dataframe thead th {\n        text-align: right;\n    }\n</style>\n<table border=\"1\" class=\"dataframe\">\n  <thead>\n    <tr style=\"text-align: right;\">\n      <th></th>\n      <th>Einwohner</th>\n      <th>Gesamtflaeche_in_km2</th>\n      <th>Gemeindename</th>\n      <th>Bezirksname</th>\n      <th>Kanton</th>\n      <th>BFS_Nr</th>\n      <th>Datum</th>\n      <th>Region</th>\n      <th>Neue_Faelle</th>\n    </tr>\n  </thead>\n  <tbody>\n    <tr>\n      <th>0</th>\n      <td>2780</td>\n      <td>42.51</td>\n      <td>Vaz/Obervaz</td>\n      <td>Albula</td>\n      <td>GR</td>\n      <td>3506</td>\n      <td>2020-02-26</td>\n      <td>Albula</td>\n      <td>0</td>\n    </tr>\n    <tr>\n      <th>1</th>\n      <td>2780</td>\n      <td>42.51</td>\n      <td>Vaz/Obervaz</td>\n      <td>Albula</td>\n      <td>GR</td>\n      <td>3506</td>\n      <td>2020-02-27</td>\n      <td>Albula</td>\n      <td>0</td>\n    </tr>\n    <tr>\n      <th>2</th>\n      <td>2780</td>\n      <td>42.51</td>\n      <td>Vaz/Obervaz</td>\n      <td>Albula</td>\n      <td>GR</td>\n      <td>3506</td>\n      <td>2020-02-28</td>\n      <td>Albula</td>\n      <td>0</td>\n    </tr>\n    <tr>\n      <th>3</th>\n      <td>2780</td>\n      <td>42.51</td>\n      <td>Vaz/Obervaz</td>\n      <td>Albula</td>\n      <td>GR</td>\n      <td>3506</td>\n      <td>2020-02-29</td>\n      <td>Albula</td>\n      <td>0</td>\n    </tr>\n    <tr>\n      <th>4</th>\n      <td>2780</td>\n      <td>42.51</td>\n      <td>Vaz/Obervaz</td>\n      <td>Albula</td>\n      <td>GR</td>\n      <td>3506</td>\n      <td>2020-03-01</td>\n      <td>Albula</td>\n      <td>0</td>\n    </tr>\n    <tr>\n      <th>...</th>\n      <td>...</td>\n      <td>...</td>\n      <td>...</td>\n      <td>...</td>\n      <td>...</td>\n      <td>...</td>\n      <td>...</td>\n      <td>...</td>\n      <td>...</td>\n    </tr>\n    <tr>\n      <th>16651</th>\n      <td>8889</td>\n      <td>18.86</td>\n      <td>Landquart</td>\n      <td>Landquart</td>\n      <td>GR</td>\n      <td>3955</td>\n      <td>2020-08-06</td>\n      <td>Landquart</td>\n      <td>0</td>\n    </tr>\n    <tr>\n      <th>16652</th>\n      <td>8889</td>\n      <td>18.86</td>\n      <td>Landquart</td>\n      <td>Landquart</td>\n      <td>GR</td>\n      <td>3955</td>\n      <td>2020-08-07</td>\n      <td>Landquart</td>\n      <td>0</td>\n    </tr>\n    <tr>\n      <th>16653</th>\n      <td>8889</td>\n      <td>18.86</td>\n      <td>Landquart</td>\n      <td>Landquart</td>\n      <td>GR</td>\n      <td>3955</td>\n      <td>2020-08-08</td>\n      <td>Landquart</td>\n      <td>0</td>\n    </tr>\n    <tr>\n      <th>16654</th>\n      <td>8889</td>\n      <td>18.86</td>\n      <td>Landquart</td>\n      <td>Landquart</td>\n      <td>GR</td>\n      <td>3955</td>\n      <td>2020-08-09</td>\n      <td>Landquart</td>\n      <td>0</td>\n    </tr>\n    <tr>\n      <th>16655</th>\n      <td>8889</td>\n      <td>18.86</td>\n      <td>Landquart</td>\n      <td>Landquart</td>\n      <td>GR</td>\n      <td>3955</td>\n      <td>2020-08-10</td>\n      <td>Landquart</td>\n      <td>0</td>\n    </tr>\n  </tbody>\n</table>\n<p>16656 rows × 9 columns</p>\n</div>"
     },
     "metadata": {},
     "execution_count": 23
    }
   ],
   "source": [
    "df_municipality_cases = pd.merge(df_all, df_cases, how='inner', left_on='Bezirksname', right_on='Bezirksname')\n",
    "df_municipality_cases"
   ]
  },
  {
   "cell_type": "code",
   "execution_count": null,
   "metadata": {},
   "outputs": [],
   "source": []
  }
 ]
}