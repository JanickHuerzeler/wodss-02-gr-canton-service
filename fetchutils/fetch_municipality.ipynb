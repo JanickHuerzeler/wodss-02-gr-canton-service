{
 "metadata": {
  "language_info": {
   "codemirror_mode": {
    "name": "ipython",
    "version": 3
   },
   "file_extension": ".py",
   "mimetype": "text/x-python",
   "name": "python",
   "nbconvert_exporter": "python",
   "pygments_lexer": "ipython3",
   "version": "3.9.2-final"
  },
  "orig_nbformat": 2,
  "kernelspec": {
   "name": "python3",
   "display_name": "Python 3.9.2 64-bit ('wodss': conda)",
   "metadata": {
    "interpreter": {
     "hash": "73ddec0ea8a538ca4ccb97d97314e79100d63a79c1820d93603f58dec5272d0d"
    }
   }
  }
 },
 "nbformat": 4,
 "nbformat_minor": 2,
 "cells": [
  {
   "cell_type": "code",
   "execution_count": 2,
   "metadata": {},
   "outputs": [],
   "source": [
    "import pandas as pd"
   ]
  },
  {
   "source": [
    "https://towardsdatascience.com/a-guide-to-scraping-html-tables-with-pandas-and-beautifulsoup-7fc24c331cf7"
   ],
   "cell_type": "markdown",
   "metadata": {}
  },
  {
   "cell_type": "code",
   "execution_count": 3,
   "metadata": {},
   "outputs": [],
   "source": [
    "url_municipalities = 'https://www.agvchapp.bfs.admin.ch/de/communes/results?EntriesFrom=01.01.2021&EntriesTo=01.01.2021&UseDefaultDates=True&Canton=GR'"
   ]
  },
  {
   "cell_type": "code",
   "execution_count": 4,
   "metadata": {},
   "outputs": [],
   "source": [
    "dfs = pd.read_html(url_municipalities)"
   ]
  },
  {
   "cell_type": "code",
   "execution_count": 14,
   "metadata": {},
   "outputs": [
    {
     "output_type": "execute_result",
     "data": {
      "text/plain": [
       "[     Hist.-Nummer Kanton  Bezirks-nummer        Bezirksname  BFS-Gde Nummer  \\\n",
       " 0           16062     GR            1841             Albula            3542   \n",
       " 1           16048     GR            1851            Viamala            3701   \n",
       " 2           16060     GR            1848            Plessur            3921   \n",
       " 3           15984     GR            1851            Viamala            3681   \n",
       " 4           16001     GR            1846             Maloja            3781   \n",
       " ..            ...    ...             ...                ...             ...   \n",
       " 96          16125     GR            1851            Viamala            3714   \n",
       " 97          16586     GR            1846             Maloja            3785   \n",
       " 98          16599     GR            1848            Plessur            3901   \n",
       " 99          16610     GR            1849  Prättigau / Davos            3871   \n",
       " 100         16598     GR            1851            Viamala            3715   \n",
       " \n",
       "            Gemeindename Datum der Aufnahme  Datum der Aufhebung  \n",
       " 0          Albula/Alvra         01.01.2017                  NaN  \n",
       " 1                Andeer         01.01.2017                  NaN  \n",
       " 2                 Arosa         01.01.2017                  NaN  \n",
       " 3                 Avers         01.01.2017                  NaN  \n",
       " 4                 Bever         01.01.2017                  NaN  \n",
       " ..                  ...                ...                  ...  \n",
       " 96            Rheinwald         01.01.2019                  NaN  \n",
       " 97   La Punt Chamues-ch         01.10.2020                  NaN  \n",
       " 98                 Chur         01.01.2021                  NaN  \n",
       " 99             Klosters         01.01.2021                  NaN  \n",
       " 100  Muntogna da Schons         01.01.2021                  NaN  \n",
       " \n",
       " [101 rows x 8 columns]]"
      ]
     },
     "metadata": {},
     "execution_count": 14
    }
   ],
   "source": [
    "dfs"
   ]
  },
  {
   "cell_type": "code",
   "execution_count": 32,
   "metadata": {},
   "outputs": [
    {
     "output_type": "execute_result",
     "data": {
      "text/plain": [
       "              Gemeindename  Bezirks_Nr        Bezirksname Kanton  \\\n",
       "BFS_Nr                                                             \n",
       "3542          Albula/Alvra        1841             Albula     GR   \n",
       "3701                Andeer        1851            Viamala     GR   \n",
       "3921                 Arosa        1848            Plessur     GR   \n",
       "3681                 Avers        1851            Viamala     GR   \n",
       "3781                 Bever        1846             Maloja     GR   \n",
       "...                    ...         ...                ...    ...   \n",
       "3714             Rheinwald        1851            Viamala     GR   \n",
       "3785    La Punt Chamues-ch        1846             Maloja     GR   \n",
       "3901                  Chur        1848            Plessur     GR   \n",
       "3871              Klosters        1849  Prättigau / Davos     GR   \n",
       "3715    Muntogna da Schons        1851            Viamala     GR   \n",
       "\n",
       "       Aufnahmedatum  Aufhebungsdatum  Hist_Nr  \n",
       "BFS_Nr                                          \n",
       "3542      01.01.2017              NaN    16062  \n",
       "3701      01.01.2017              NaN    16048  \n",
       "3921      01.01.2017              NaN    16060  \n",
       "3681      01.01.2017              NaN    15984  \n",
       "3781      01.01.2017              NaN    16001  \n",
       "...              ...              ...      ...  \n",
       "3714      01.01.2019              NaN    16125  \n",
       "3785      01.10.2020              NaN    16586  \n",
       "3901      01.01.2021              NaN    16599  \n",
       "3871      01.01.2021              NaN    16610  \n",
       "3715      01.01.2021              NaN    16598  \n",
       "\n",
       "[101 rows x 7 columns]"
      ],
      "text/html": "<div>\n<style scoped>\n    .dataframe tbody tr th:only-of-type {\n        vertical-align: middle;\n    }\n\n    .dataframe tbody tr th {\n        vertical-align: top;\n    }\n\n    .dataframe thead th {\n        text-align: right;\n    }\n</style>\n<table border=\"1\" class=\"dataframe\">\n  <thead>\n    <tr style=\"text-align: right;\">\n      <th></th>\n      <th>Gemeindename</th>\n      <th>Bezirks_Nr</th>\n      <th>Bezirksname</th>\n      <th>Kanton</th>\n      <th>Aufnahmedatum</th>\n      <th>Aufhebungsdatum</th>\n      <th>Hist_Nr</th>\n    </tr>\n    <tr>\n      <th>BFS_Nr</th>\n      <th></th>\n      <th></th>\n      <th></th>\n      <th></th>\n      <th></th>\n      <th></th>\n      <th></th>\n    </tr>\n  </thead>\n  <tbody>\n    <tr>\n      <th>3542</th>\n      <td>Albula/Alvra</td>\n      <td>1841</td>\n      <td>Albula</td>\n      <td>GR</td>\n      <td>01.01.2017</td>\n      <td>NaN</td>\n      <td>16062</td>\n    </tr>\n    <tr>\n      <th>3701</th>\n      <td>Andeer</td>\n      <td>1851</td>\n      <td>Viamala</td>\n      <td>GR</td>\n      <td>01.01.2017</td>\n      <td>NaN</td>\n      <td>16048</td>\n    </tr>\n    <tr>\n      <th>3921</th>\n      <td>Arosa</td>\n      <td>1848</td>\n      <td>Plessur</td>\n      <td>GR</td>\n      <td>01.01.2017</td>\n      <td>NaN</td>\n      <td>16060</td>\n    </tr>\n    <tr>\n      <th>3681</th>\n      <td>Avers</td>\n      <td>1851</td>\n      <td>Viamala</td>\n      <td>GR</td>\n      <td>01.01.2017</td>\n      <td>NaN</td>\n      <td>15984</td>\n    </tr>\n    <tr>\n      <th>3781</th>\n      <td>Bever</td>\n      <td>1846</td>\n      <td>Maloja</td>\n      <td>GR</td>\n      <td>01.01.2017</td>\n      <td>NaN</td>\n      <td>16001</td>\n    </tr>\n    <tr>\n      <th>...</th>\n      <td>...</td>\n      <td>...</td>\n      <td>...</td>\n      <td>...</td>\n      <td>...</td>\n      <td>...</td>\n      <td>...</td>\n    </tr>\n    <tr>\n      <th>3714</th>\n      <td>Rheinwald</td>\n      <td>1851</td>\n      <td>Viamala</td>\n      <td>GR</td>\n      <td>01.01.2019</td>\n      <td>NaN</td>\n      <td>16125</td>\n    </tr>\n    <tr>\n      <th>3785</th>\n      <td>La Punt Chamues-ch</td>\n      <td>1846</td>\n      <td>Maloja</td>\n      <td>GR</td>\n      <td>01.10.2020</td>\n      <td>NaN</td>\n      <td>16586</td>\n    </tr>\n    <tr>\n      <th>3901</th>\n      <td>Chur</td>\n      <td>1848</td>\n      <td>Plessur</td>\n      <td>GR</td>\n      <td>01.01.2021</td>\n      <td>NaN</td>\n      <td>16599</td>\n    </tr>\n    <tr>\n      <th>3871</th>\n      <td>Klosters</td>\n      <td>1849</td>\n      <td>Prättigau / Davos</td>\n      <td>GR</td>\n      <td>01.01.2021</td>\n      <td>NaN</td>\n      <td>16610</td>\n    </tr>\n    <tr>\n      <th>3715</th>\n      <td>Muntogna da Schons</td>\n      <td>1851</td>\n      <td>Viamala</td>\n      <td>GR</td>\n      <td>01.01.2021</td>\n      <td>NaN</td>\n      <td>16598</td>\n    </tr>\n  </tbody>\n</table>\n<p>101 rows × 7 columns</p>\n</div>"
     },
     "metadata": {},
     "execution_count": 32
    }
   ],
   "source": [
    "df_municipalities = dfs[0]\n",
    "df_municipalities.rename(columns={'BFS-Gde Nummer':'BFS_Nr','Bezirks-nummer':'Bezirks_Nr','Datum der Aufnahme':'Aufnahmedatum', 'Datum der Aufhebung':'Aufhebungsdatum', 'Hist.-Nummer':'Hist_Nr'}, inplace=True)\n",
    "df_municipalities = df_municipalities[['BFS_Nr','Gemeindename','Bezirks_Nr','Bezirksname','Kanton', 'Aufnahmedatum', 'Aufhebungsdatum', 'Hist_Nr']]\n",
    "df_municipalities.set_index('BFS_Nr',inplace=True)\n",
    "df_municipalities"
   ]
  }
 ]
}