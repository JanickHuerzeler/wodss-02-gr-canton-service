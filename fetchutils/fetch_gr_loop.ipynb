{
 "metadata": {
  "language_info": {
   "codemirror_mode": {
    "name": "ipython",
    "version": 3
   },
   "file_extension": ".py",
   "mimetype": "text/x-python",
   "name": "python",
   "nbconvert_exporter": "python",
   "pygments_lexer": "ipython3",
   "version": "3.9.2-final"
  },
  "orig_nbformat": 2,
  "kernelspec": {
   "name": "python3",
   "display_name": "Python 3.9.2 64-bit ('WODSS': conda)",
   "metadata": {
    "interpreter": {
     "hash": "d565da57974a8f6186183cb36896b0ebb8a2ea189a56bb6836d4ef74ce179adb"
    }
   }
  }
 },
 "nbformat": 4,
 "nbformat_minor": 2,
 "cells": [
  {
   "cell_type": "code",
   "execution_count": 54,
   "metadata": {},
   "outputs": [],
   "source": [
    "import pandas as pd\n",
    "import numpy as np\n",
    "import requests\n",
    "import json"
   ]
  },
  {
   "cell_type": "code",
   "execution_count": 64,
   "metadata": {},
   "outputs": [],
   "source": [
    "\n",
    "# the api is limited to 2000 result items per call\n",
    "MAX_RESULT_COUNT_PER_REQUEST = 2000\n",
    "\n",
    "def get_canton_data(take: int = 2000, offset=0) -> str:\n",
    "    ''' \n",
    "    Performs a query on the canton endpoint for receiving covid-19 data. See https://curl.trillworks.com/ for request usage.\n",
    "    '''\n",
    "    endpointUrl = 'https://services1.arcgis.com/YAuo6vcW85VPu7OE/ArcGIS/rest/services/Fallzahlen_Pro_Region/FeatureServer/0/query'\n",
    "    print(f'get_canton_data params: take: {take}, offset: {offset}')\n",
    "    \n",
    "    params = (\n",
    "        ('f', 'json'),\n",
    "        ('where', '1=1'),\n",
    "        ('outFields', '*'),\n",
    "        ('resultOffset', f'{offset}'),\n",
    "        ('resultRecordCount', f'{take}')\n",
    "    )\n",
    "    try:\n",
    "        response = requests.get(endpointUrl, params=params)\n",
    "        print(response.url)\n",
    "        response_json = response.json()\n",
    "        return response_json\n",
    "    except requests.exceptions.HTTPError as errh:\n",
    "        print(\"Http Error:\", errh)\n",
    "        raise SystemExit(e)\n",
    "    except requests.exceptions.ConnectionError as errc:\n",
    "        print(\"Error Connecting:\", errc)\n",
    "        raise SystemExit(e)\n",
    "    except requests.exceptions.Timeout as errt:\n",
    "        print(\"Timeout Error:\", errt)\n",
    "        raise SystemExit(e)\n",
    "    except requests.exceptions.RequestException as err:\n",
    "        print(\"Oops: Something Else\", err)\n",
    "        raise SystemExit(e)\n",
    "    except:\n",
    "        print(\"exception\")\n",
    "        return None\n",
    "\n",
    "def get_canton_data_internal(take: int, offset: int):\n",
    "    response = get_canton_data(take, offset)\n",
    "    df_response_json = pd.json_normalize(response['features'])\n",
    "    if not df_response_json.empty:\n",
    "        columnnames = [str.replace(col, 'attributes.', '') for col in df_response_json.columns]\n",
    "        df_response_json.columns = columnnames\n",
    "        df_response_json['Datum'] = pd.to_datetime(df_response_json['Datum'], unit='ms')\n",
    "        df_response_json.Region = df_response_json.Region.astype('category')\n",
    "        df_response_json.Neue_Faelle = df_response_json.Neue_Faelle.astype('int')\n",
    "        df_response_json.Aktive_Faelle = df_response_json.Aktive_Faelle.astype('int')\n",
    "        df_response_json.Faelle__kumuliert_ = df_response_json.Faelle__kumuliert_.astype('int')\n",
    "        df_response_json.Verstorbene = df_response_json.Verstorbene.astype('int')\n",
    "        df_response_json.Verstorbene__kumuliert_ = df_response_json.Verstorbene__kumuliert_.astype('int')\n",
    "        df_response_json.FID = df_response_json.FID.astype('int')\n",
    "        df_cleaned = df_response_json[['Datum', 'Region', 'Neue_Faelle', 'FID']]\n",
    "        # df_cleaned = df_cleaned.groupby(['Region', 'Datum']).sum() # Grouping will happen at later point\n",
    "        return df_cleaned, len(df_cleaned) # return dataframe and amount of items\n",
    "    else: \n",
    "        cols = ['Datum', 'Region', 'Neue_Faelle']\n",
    "        response = pd.DataFrame(columns=cols)\n",
    "        return response, 0\n",
    "\n",
    "def get_canton_data_df_all():\n",
    "\n",
    "    take = MAX_RESULT_COUNT_PER_REQUEST\n",
    "    offset = 0\n",
    "    currentRound = 0\n",
    "    cols = ['Datum', 'Region', 'Neue_Faelle']\n",
    "    df_response_all = pd.DataFrame(columns=cols)\n",
    "    leaveLoop = False\n",
    "\n",
    "    from datetime import date\n",
    "\n",
    "    firstDateForApiCases = date(2020, 2, 26)\n",
    "    currentDate = date.today()\n",
    "    dateDelta = currentDate - firstDateForApiCases\n",
    "    \n",
    "    loopInvariant = ((int)((12 * dateDelta.days) /MAX_RESULT_COUNT_PER_REQUEST))+2\n",
    "    print(loopInvariant)\n",
    "\n",
    "\n",
    "    try:\n",
    "        while leaveLoop is False and currentRound < loopInvariant:\n",
    "            offset = currentRound * take\n",
    "            print(f'Loop: {currentRound}, take: {take}, offset: {offset}')\n",
    "            iterationData, resultCount = get_canton_data_internal(take, offset)\n",
    "            print(f'iterationData: \\n {iterationData.head(1)}\\n resultCount: {resultCount}')\n",
    "            df_response_all = df_response_all.append(iterationData[cols],ignore_index=True)\n",
    "            leaveLoop = True if resultCount < take else False\n",
    "            currentRound = currentRound + 1\n",
    "    except Exception as e:\n",
    "        print(e)\n",
    "\n",
    "    return df_response_all\n",
    "    "
   ]
  },
  {
   "cell_type": "code",
   "execution_count": 68,
   "metadata": {},
   "outputs": [
    {
     "output_type": "stream",
     "name": "stdout",
     "text": [
      "4\n",
      "Loop: 0, take: 2000, offset: 0\n",
      "get_canton_data params: take: 2000, offset: 0\n",
      "https://services1.arcgis.com/YAuo6vcW85VPu7OE/ArcGIS/rest/services/Fallzahlen_Pro_Region/FeatureServer/0/query?f=json&where=1%3D1&outFields=%2A&resultOffset=0&resultRecordCount=2000\n",
      "iterationData: \n",
      "        Datum  Region  Neue_Faelle  FID\n",
      "0 2020-02-26  Albula            0    1\n",
      " resultCount: 2000\n",
      "Loop: 1, take: 2000, offset: 2000\n",
      "get_canton_data params: take: 2000, offset: 2000\n",
      "https://services1.arcgis.com/YAuo6vcW85VPu7OE/ArcGIS/rest/services/Fallzahlen_Pro_Region/FeatureServer/0/query?f=json&where=1%3D1&outFields=%2A&resultOffset=2000&resultRecordCount=2000\n",
      "iterationData: \n",
      "        Datum           Region  Neue_Faelle   FID\n",
      "0 2020-08-10  Prättigau/Davos            0  2001\n",
      " resultCount: 2000\n",
      "Loop: 2, take: 2000, offset: 4000\n",
      "get_canton_data params: take: 2000, offset: 4000\n",
      "https://services1.arcgis.com/YAuo6vcW85VPu7OE/ArcGIS/rest/services/Fallzahlen_Pro_Region/FeatureServer/0/query?f=json&where=1%3D1&outFields=%2A&resultOffset=4000&resultRecordCount=2000\n",
      "iterationData: \n",
      "        Datum     Region  Neue_Faelle   FID\n",
      "0 2021-01-24  Landquart            1  4001\n",
      " resultCount: 848\n"
     ]
    },
    {
     "output_type": "execute_result",
     "data": {
      "text/plain": [
       "Datum          4848\n",
       "Region         4848\n",
       "Neue_Faelle    4848\n",
       "dtype: int64"
      ]
     },
     "metadata": {},
     "execution_count": 68
    }
   ],
   "source": [
    "df = get_canton_data_df_all()\n",
    "df.count()"
   ]
  },
  {
   "cell_type": "code",
   "execution_count": 69,
   "metadata": {},
   "outputs": [
    {
     "output_type": "execute_result",
     "data": {
      "text/plain": [
       "       Datum                       Region Neue_Faelle\n",
       "0 2020-02-26                       Albula           0\n",
       "1 2020-02-26                      Bernina           0\n",
       "2 2020-02-26  Engiadina Bassa/Val Müstair           0\n",
       "3 2020-02-26                      Imboden           0\n",
       "4 2020-02-26                    Landquart           0"
      ],
      "text/html": "<div>\n<style scoped>\n    .dataframe tbody tr th:only-of-type {\n        vertical-align: middle;\n    }\n\n    .dataframe tbody tr th {\n        vertical-align: top;\n    }\n\n    .dataframe thead th {\n        text-align: right;\n    }\n</style>\n<table border=\"1\" class=\"dataframe\">\n  <thead>\n    <tr style=\"text-align: right;\">\n      <th></th>\n      <th>Datum</th>\n      <th>Region</th>\n      <th>Neue_Faelle</th>\n    </tr>\n  </thead>\n  <tbody>\n    <tr>\n      <th>0</th>\n      <td>2020-02-26</td>\n      <td>Albula</td>\n      <td>0</td>\n    </tr>\n    <tr>\n      <th>1</th>\n      <td>2020-02-26</td>\n      <td>Bernina</td>\n      <td>0</td>\n    </tr>\n    <tr>\n      <th>2</th>\n      <td>2020-02-26</td>\n      <td>Engiadina Bassa/Val Müstair</td>\n      <td>0</td>\n    </tr>\n    <tr>\n      <th>3</th>\n      <td>2020-02-26</td>\n      <td>Imboden</td>\n      <td>0</td>\n    </tr>\n    <tr>\n      <th>4</th>\n      <td>2020-02-26</td>\n      <td>Landquart</td>\n      <td>0</td>\n    </tr>\n  </tbody>\n</table>\n</div>"
     },
     "metadata": {},
     "execution_count": 69
    }
   ],
   "source": [
    "df.head()"
   ]
  }
 ]
}