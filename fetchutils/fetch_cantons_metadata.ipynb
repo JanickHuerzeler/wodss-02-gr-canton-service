{
 "metadata": {
  "language_info": {
   "codemirror_mode": {
    "name": "ipython",
    "version": 3
   },
   "file_extension": ".py",
   "mimetype": "text/x-python",
   "name": "python",
   "nbconvert_exporter": "python",
   "pygments_lexer": "ipython3",
   "version": "3.8.5-final"
  },
  "orig_nbformat": 2,
  "kernelspec": {
   "name": "python3",
   "display_name": "Python 3",
   "language": "python"
  }
 },
 "nbformat": 4,
 "nbformat_minor": 2,
 "cells": [
  {
   "cell_type": "code",
   "execution_count": 1,
   "metadata": {},
   "outputs": [],
   "source": [
    "import pandas as pd"
   ]
  },
  {
   "cell_type": "code",
   "execution_count": 2,
   "metadata": {},
   "outputs": [],
   "source": [
    "regionalporträts_2020_kennzahlen_aller_gemeinden ='https://www.bfs.admin.ch/bfsstatic/dam/assets/11587763/master'"
   ]
  },
  {
   "cell_type": "code",
   "execution_count": 3,
   "metadata": {},
   "outputs": [
    {
     "output_type": "execute_result",
     "data": {
      "text/plain": [
       "'https://www.bfs.admin.ch/bfsstatic/dam/assets/11587763/master'"
      ]
     },
     "metadata": {},
     "execution_count": 3
    }
   ],
   "source": [
    "regionalporträts_2020_kennzahlen_aller_gemeinden"
   ]
  },
  {
   "cell_type": "code",
   "execution_count": 5,
   "metadata": {},
   "outputs": [
    {
     "output_type": "error",
     "ename": "ImportError",
     "evalue": "Missing optional dependency 'xlrd'. Install xlrd >= 1.0.0 for Excel support Use pip or conda to install xlrd.",
     "traceback": [
      "\u001b[0;31m---------------------------------------------------------------------------\u001b[0m",
      "\u001b[0;31mImportError\u001b[0m                               Traceback (most recent call last)",
      "\u001b[0;32m<ipython-input-5-249255e21094>\u001b[0m in \u001b[0;36m<module>\u001b[0;34m\u001b[0m\n\u001b[0;32m----> 1\u001b[0;31m \u001b[0mdata\u001b[0m \u001b[0;34m=\u001b[0m \u001b[0mpd\u001b[0m\u001b[0;34m.\u001b[0m\u001b[0mread_excel\u001b[0m\u001b[0;34m(\u001b[0m\u001b[0;34m'https://www.bfs.admin.ch/bfsstatic/dam/assets/11587763/master'\u001b[0m\u001b[0;34m)\u001b[0m\u001b[0;34m\u001b[0m\u001b[0;34m\u001b[0m\u001b[0m\n\u001b[0m\u001b[1;32m      2\u001b[0m \u001b[0mdata\u001b[0m\u001b[0;34m.\u001b[0m\u001b[0mloc\u001b[0m\u001b[0;34m[\u001b[0m\u001b[0;36m4\u001b[0m\u001b[0;34m]\u001b[0m\u001b[0;34m.\u001b[0m\u001b[0mvalues\u001b[0m\u001b[0;34m\u001b[0m\u001b[0;34m\u001b[0m\u001b[0m\n",
      "\u001b[0;32m~/opt/miniconda3/envs/Dsp2020/lib/python3.8/site-packages/pandas/util/_decorators.py\u001b[0m in \u001b[0;36mwrapper\u001b[0;34m(*args, **kwargs)\u001b[0m\n\u001b[1;32m    294\u001b[0m                 )\n\u001b[1;32m    295\u001b[0m                 \u001b[0mwarnings\u001b[0m\u001b[0;34m.\u001b[0m\u001b[0mwarn\u001b[0m\u001b[0;34m(\u001b[0m\u001b[0mmsg\u001b[0m\u001b[0;34m,\u001b[0m \u001b[0mFutureWarning\u001b[0m\u001b[0;34m,\u001b[0m \u001b[0mstacklevel\u001b[0m\u001b[0;34m=\u001b[0m\u001b[0mstacklevel\u001b[0m\u001b[0;34m)\u001b[0m\u001b[0;34m\u001b[0m\u001b[0;34m\u001b[0m\u001b[0m\n\u001b[0;32m--> 296\u001b[0;31m             \u001b[0;32mreturn\u001b[0m \u001b[0mfunc\u001b[0m\u001b[0;34m(\u001b[0m\u001b[0;34m*\u001b[0m\u001b[0margs\u001b[0m\u001b[0;34m,\u001b[0m \u001b[0;34m**\u001b[0m\u001b[0mkwargs\u001b[0m\u001b[0;34m)\u001b[0m\u001b[0;34m\u001b[0m\u001b[0;34m\u001b[0m\u001b[0m\n\u001b[0m\u001b[1;32m    297\u001b[0m \u001b[0;34m\u001b[0m\u001b[0m\n\u001b[1;32m    298\u001b[0m         \u001b[0;32mreturn\u001b[0m \u001b[0mwrapper\u001b[0m\u001b[0;34m\u001b[0m\u001b[0;34m\u001b[0m\u001b[0m\n",
      "\u001b[0;32m~/opt/miniconda3/envs/Dsp2020/lib/python3.8/site-packages/pandas/io/excel/_base.py\u001b[0m in \u001b[0;36mread_excel\u001b[0;34m(io, sheet_name, header, names, index_col, usecols, squeeze, dtype, engine, converters, true_values, false_values, skiprows, nrows, na_values, keep_default_na, na_filter, verbose, parse_dates, date_parser, thousands, comment, skipfooter, convert_float, mangle_dupe_cols)\u001b[0m\n\u001b[1;32m    302\u001b[0m \u001b[0;34m\u001b[0m\u001b[0m\n\u001b[1;32m    303\u001b[0m     \u001b[0;32mif\u001b[0m \u001b[0;32mnot\u001b[0m \u001b[0misinstance\u001b[0m\u001b[0;34m(\u001b[0m\u001b[0mio\u001b[0m\u001b[0;34m,\u001b[0m \u001b[0mExcelFile\u001b[0m\u001b[0;34m)\u001b[0m\u001b[0;34m:\u001b[0m\u001b[0;34m\u001b[0m\u001b[0;34m\u001b[0m\u001b[0m\n\u001b[0;32m--> 304\u001b[0;31m         \u001b[0mio\u001b[0m \u001b[0;34m=\u001b[0m \u001b[0mExcelFile\u001b[0m\u001b[0;34m(\u001b[0m\u001b[0mio\u001b[0m\u001b[0;34m,\u001b[0m \u001b[0mengine\u001b[0m\u001b[0;34m=\u001b[0m\u001b[0mengine\u001b[0m\u001b[0;34m)\u001b[0m\u001b[0;34m\u001b[0m\u001b[0;34m\u001b[0m\u001b[0m\n\u001b[0m\u001b[1;32m    305\u001b[0m     \u001b[0;32melif\u001b[0m \u001b[0mengine\u001b[0m \u001b[0;32mand\u001b[0m \u001b[0mengine\u001b[0m \u001b[0;34m!=\u001b[0m \u001b[0mio\u001b[0m\u001b[0;34m.\u001b[0m\u001b[0mengine\u001b[0m\u001b[0;34m:\u001b[0m\u001b[0;34m\u001b[0m\u001b[0;34m\u001b[0m\u001b[0m\n\u001b[1;32m    306\u001b[0m         raise ValueError(\n",
      "\u001b[0;32m~/opt/miniconda3/envs/Dsp2020/lib/python3.8/site-packages/pandas/io/excel/_base.py\u001b[0m in \u001b[0;36m__init__\u001b[0;34m(self, path_or_buffer, engine)\u001b[0m\n\u001b[1;32m    865\u001b[0m         \u001b[0mself\u001b[0m\u001b[0;34m.\u001b[0m\u001b[0m_io\u001b[0m \u001b[0;34m=\u001b[0m \u001b[0mstringify_path\u001b[0m\u001b[0;34m(\u001b[0m\u001b[0mpath_or_buffer\u001b[0m\u001b[0;34m)\u001b[0m\u001b[0;34m\u001b[0m\u001b[0;34m\u001b[0m\u001b[0m\n\u001b[1;32m    866\u001b[0m \u001b[0;34m\u001b[0m\u001b[0m\n\u001b[0;32m--> 867\u001b[0;31m         \u001b[0mself\u001b[0m\u001b[0;34m.\u001b[0m\u001b[0m_reader\u001b[0m \u001b[0;34m=\u001b[0m \u001b[0mself\u001b[0m\u001b[0;34m.\u001b[0m\u001b[0m_engines\u001b[0m\u001b[0;34m[\u001b[0m\u001b[0mengine\u001b[0m\u001b[0;34m]\u001b[0m\u001b[0;34m(\u001b[0m\u001b[0mself\u001b[0m\u001b[0;34m.\u001b[0m\u001b[0m_io\u001b[0m\u001b[0;34m)\u001b[0m\u001b[0;34m\u001b[0m\u001b[0;34m\u001b[0m\u001b[0m\n\u001b[0m\u001b[1;32m    868\u001b[0m \u001b[0;34m\u001b[0m\u001b[0m\n\u001b[1;32m    869\u001b[0m     \u001b[0;32mdef\u001b[0m \u001b[0m__fspath__\u001b[0m\u001b[0;34m(\u001b[0m\u001b[0mself\u001b[0m\u001b[0;34m)\u001b[0m\u001b[0;34m:\u001b[0m\u001b[0;34m\u001b[0m\u001b[0;34m\u001b[0m\u001b[0m\n",
      "\u001b[0;32m~/opt/miniconda3/envs/Dsp2020/lib/python3.8/site-packages/pandas/io/excel/_xlrd.py\u001b[0m in \u001b[0;36m__init__\u001b[0;34m(self, filepath_or_buffer)\u001b[0m\n\u001b[1;32m     19\u001b[0m         \"\"\"\n\u001b[1;32m     20\u001b[0m         \u001b[0merr_msg\u001b[0m \u001b[0;34m=\u001b[0m \u001b[0;34m\"Install xlrd >= 1.0.0 for Excel support\"\u001b[0m\u001b[0;34m\u001b[0m\u001b[0;34m\u001b[0m\u001b[0m\n\u001b[0;32m---> 21\u001b[0;31m         \u001b[0mimport_optional_dependency\u001b[0m\u001b[0;34m(\u001b[0m\u001b[0;34m\"xlrd\"\u001b[0m\u001b[0;34m,\u001b[0m \u001b[0mextra\u001b[0m\u001b[0;34m=\u001b[0m\u001b[0merr_msg\u001b[0m\u001b[0;34m)\u001b[0m\u001b[0;34m\u001b[0m\u001b[0;34m\u001b[0m\u001b[0m\n\u001b[0m\u001b[1;32m     22\u001b[0m         \u001b[0msuper\u001b[0m\u001b[0;34m(\u001b[0m\u001b[0;34m)\u001b[0m\u001b[0;34m.\u001b[0m\u001b[0m__init__\u001b[0m\u001b[0;34m(\u001b[0m\u001b[0mfilepath_or_buffer\u001b[0m\u001b[0;34m)\u001b[0m\u001b[0;34m\u001b[0m\u001b[0;34m\u001b[0m\u001b[0m\n\u001b[1;32m     23\u001b[0m \u001b[0;34m\u001b[0m\u001b[0m\n",
      "\u001b[0;32m~/opt/miniconda3/envs/Dsp2020/lib/python3.8/site-packages/pandas/compat/_optional.py\u001b[0m in \u001b[0;36mimport_optional_dependency\u001b[0;34m(name, extra, raise_on_missing, on_version)\u001b[0m\n\u001b[1;32m    108\u001b[0m     \u001b[0;32mexcept\u001b[0m \u001b[0mImportError\u001b[0m\u001b[0;34m:\u001b[0m\u001b[0;34m\u001b[0m\u001b[0;34m\u001b[0m\u001b[0m\n\u001b[1;32m    109\u001b[0m         \u001b[0;32mif\u001b[0m \u001b[0mraise_on_missing\u001b[0m\u001b[0;34m:\u001b[0m\u001b[0;34m\u001b[0m\u001b[0;34m\u001b[0m\u001b[0m\n\u001b[0;32m--> 110\u001b[0;31m             \u001b[0;32mraise\u001b[0m \u001b[0mImportError\u001b[0m\u001b[0;34m(\u001b[0m\u001b[0mmsg\u001b[0m\u001b[0;34m)\u001b[0m \u001b[0;32mfrom\u001b[0m \u001b[0;32mNone\u001b[0m\u001b[0;34m\u001b[0m\u001b[0;34m\u001b[0m\u001b[0m\n\u001b[0m\u001b[1;32m    111\u001b[0m         \u001b[0;32melse\u001b[0m\u001b[0;34m:\u001b[0m\u001b[0;34m\u001b[0m\u001b[0;34m\u001b[0m\u001b[0m\n\u001b[1;32m    112\u001b[0m             \u001b[0;32mreturn\u001b[0m \u001b[0;32mNone\u001b[0m\u001b[0;34m\u001b[0m\u001b[0;34m\u001b[0m\u001b[0m\n",
      "\u001b[0;31mImportError\u001b[0m: Missing optional dependency 'xlrd'. Install xlrd >= 1.0.0 for Excel support Use pip or conda to install xlrd."
     ]
    }
   ],
   "source": [
    "data = pd.read_excel('https://www.bfs.admin.ch/bfsstatic/dam/assets/11587763/master')\n",
    "data.loc[4].values"
   ]
  },
  {
   "cell_type": "code",
   "execution_count": 8,
   "metadata": {},
   "outputs": [
    {
     "output_type": "execute_result",
     "data": {
      "text/plain": [
       "          Regionalporträts 2020: Gemeinden - Kennzahlen    Unnamed: 1  \\\n",
       "0                                                   NaN           NaN   \n",
       "1                                                   NaN           NaN   \n",
       "2                                                   NaN           NaN   \n",
       "3                                                   NaN           NaN   \n",
       "4                                          Gemeindecode  Gemeindename   \n",
       "...                                                 ...           ...   \n",
       "2226                                                NaN           NaN   \n",
       "2227  Auskunft: Statistikauskunft, 058 463 60 11, in...           NaN   \n",
       "2228                                                NaN           NaN   \n",
       "2229                            Bundesamt für Statistik           NaN   \n",
       "2230                                              © BFS           NaN   \n",
       "\n",
       "       Unnamed: 2        Unnamed: 3                   Unnamed: 4  \\\n",
       "0             NaN               NaN                          NaN   \n",
       "1             NaN               NaN                          NaN   \n",
       "2     Bevölkerung               NaN                          NaN   \n",
       "3             NaN               NaN                          NaN   \n",
       "4       Einwohner  Veränderung in %  Bevölkerungs-dichte pro km²   \n",
       "...           ...               ...                          ...   \n",
       "2226          NaN               NaN                          NaN   \n",
       "2227          NaN               NaN                          NaN   \n",
       "2228          NaN               NaN                          NaN   \n",
       "2229          NaN               NaN                          NaN   \n",
       "2230          NaN               NaN                          NaN   \n",
       "\n",
       "          Unnamed: 5             Unnamed: 6   Unnamed: 7         Unnamed: 8  \\\n",
       "0                NaN                    NaN          NaN                NaN   \n",
       "1                NaN                    NaN          NaN                NaN   \n",
       "2                NaN  Altersverteilung in %          NaN                NaN   \n",
       "3                NaN                    NaN          NaN                NaN   \n",
       "4     Ausländer in %             0-19 Jahre  20-64 Jahre  65 Jahre und mehr   \n",
       "...              ...                    ...          ...                ...   \n",
       "2226             NaN                    NaN          NaN                NaN   \n",
       "2227             NaN                    NaN          NaN                NaN   \n",
       "2228             NaN                    NaN          NaN                NaN   \n",
       "2229             NaN                    NaN          NaN                NaN   \n",
       "2230             NaN                    NaN          NaN                NaN   \n",
       "\n",
       "                       Unnamed: 9  ...  \\\n",
       "0                             NaN  ...   \n",
       "1                             NaN  ...   \n",
       "2     Bevölkerungsbewegung (in ‰)  ...   \n",
       "3                             NaN  ...   \n",
       "4             Rohe Heiratssziffer  ...   \n",
       "...                           ...  ...   \n",
       "2226                          NaN  ...   \n",
       "2227                          NaN  ...   \n",
       "2228                          NaN  ...   \n",
       "2229                          NaN  ...   \n",
       "2230                          NaN  ...   \n",
       "\n",
       "                                            Unnamed: 33 Unnamed: 34  \\\n",
       "0                                                   NaN         NaN   \n",
       "1                                                   NaN         NaN   \n",
       "2     Wähleranteile ausgewählter Parteien in % (Nati...         NaN   \n",
       "3                                                   NaN         NaN   \n",
       "4                                                FDP 4)         CVP   \n",
       "...                                                 ...         ...   \n",
       "2226                                                NaN         NaN   \n",
       "2227                                                NaN         NaN   \n",
       "2228                                                NaN         NaN   \n",
       "2229                                                NaN         NaN   \n",
       "2230                                                NaN         NaN   \n",
       "\n",
       "     Unnamed: 35 Unnamed: 36 Unnamed: 37 Unnamed: 38 Unnamed: 39 Unnamed: 40  \\\n",
       "0            NaN         NaN         NaN         NaN         NaN         NaN   \n",
       "1            NaN         NaN         NaN         NaN         NaN         NaN   \n",
       "2            NaN         NaN         NaN         NaN         NaN         NaN   \n",
       "3            NaN         NaN         NaN         NaN         NaN         NaN   \n",
       "4             SP         SVP     EVP/CSP         GLP         BDP    PdA/Sol.   \n",
       "...          ...         ...         ...         ...         ...         ...   \n",
       "2226         NaN         NaN         NaN         NaN         NaN         NaN   \n",
       "2227         NaN         NaN         NaN         NaN         NaN         NaN   \n",
       "2228         NaN         NaN         NaN         NaN         NaN         NaN   \n",
       "2229         NaN         NaN         NaN         NaN         NaN         NaN   \n",
       "2230         NaN         NaN         NaN         NaN         NaN         NaN   \n",
       "\n",
       "     Unnamed: 41                T21.3.1  \n",
       "0            NaN                    NaN  \n",
       "1            NaN                    NaN  \n",
       "2            NaN                    NaN  \n",
       "3            NaN                    NaN  \n",
       "4            GPS  Kleine Rechtsparteien  \n",
       "...          ...                    ...  \n",
       "2226         NaN                    NaN  \n",
       "2227         NaN                    NaN  \n",
       "2228         NaN                    NaN  \n",
       "2229         NaN                    NaN  \n",
       "2230         NaN                    NaN  \n",
       "\n",
       "[2231 rows x 43 columns]"
      ],
      "text/html": "<div>\n<style scoped>\n    .dataframe tbody tr th:only-of-type {\n        vertical-align: middle;\n    }\n\n    .dataframe tbody tr th {\n        vertical-align: top;\n    }\n\n    .dataframe thead th {\n        text-align: right;\n    }\n</style>\n<table border=\"1\" class=\"dataframe\">\n  <thead>\n    <tr style=\"text-align: right;\">\n      <th></th>\n      <th>Regionalporträts 2020: Gemeinden - Kennzahlen</th>\n      <th>Unnamed: 1</th>\n      <th>Unnamed: 2</th>\n      <th>Unnamed: 3</th>\n      <th>Unnamed: 4</th>\n      <th>Unnamed: 5</th>\n      <th>Unnamed: 6</th>\n      <th>Unnamed: 7</th>\n      <th>Unnamed: 8</th>\n      <th>Unnamed: 9</th>\n      <th>...</th>\n      <th>Unnamed: 33</th>\n      <th>Unnamed: 34</th>\n      <th>Unnamed: 35</th>\n      <th>Unnamed: 36</th>\n      <th>Unnamed: 37</th>\n      <th>Unnamed: 38</th>\n      <th>Unnamed: 39</th>\n      <th>Unnamed: 40</th>\n      <th>Unnamed: 41</th>\n      <th>T21.3.1</th>\n    </tr>\n  </thead>\n  <tbody>\n    <tr>\n      <th>0</th>\n      <td>NaN</td>\n      <td>NaN</td>\n      <td>NaN</td>\n      <td>NaN</td>\n      <td>NaN</td>\n      <td>NaN</td>\n      <td>NaN</td>\n      <td>NaN</td>\n      <td>NaN</td>\n      <td>NaN</td>\n      <td>...</td>\n      <td>NaN</td>\n      <td>NaN</td>\n      <td>NaN</td>\n      <td>NaN</td>\n      <td>NaN</td>\n      <td>NaN</td>\n      <td>NaN</td>\n      <td>NaN</td>\n      <td>NaN</td>\n      <td>NaN</td>\n    </tr>\n    <tr>\n      <th>1</th>\n      <td>NaN</td>\n      <td>NaN</td>\n      <td>NaN</td>\n      <td>NaN</td>\n      <td>NaN</td>\n      <td>NaN</td>\n      <td>NaN</td>\n      <td>NaN</td>\n      <td>NaN</td>\n      <td>NaN</td>\n      <td>...</td>\n      <td>NaN</td>\n      <td>NaN</td>\n      <td>NaN</td>\n      <td>NaN</td>\n      <td>NaN</td>\n      <td>NaN</td>\n      <td>NaN</td>\n      <td>NaN</td>\n      <td>NaN</td>\n      <td>NaN</td>\n    </tr>\n    <tr>\n      <th>2</th>\n      <td>NaN</td>\n      <td>NaN</td>\n      <td>Bevölkerung</td>\n      <td>NaN</td>\n      <td>NaN</td>\n      <td>NaN</td>\n      <td>Altersverteilung in %</td>\n      <td>NaN</td>\n      <td>NaN</td>\n      <td>Bevölkerungsbewegung (in ‰)</td>\n      <td>...</td>\n      <td>Wähleranteile ausgewählter Parteien in % (Nati...</td>\n      <td>NaN</td>\n      <td>NaN</td>\n      <td>NaN</td>\n      <td>NaN</td>\n      <td>NaN</td>\n      <td>NaN</td>\n      <td>NaN</td>\n      <td>NaN</td>\n      <td>NaN</td>\n    </tr>\n    <tr>\n      <th>3</th>\n      <td>NaN</td>\n      <td>NaN</td>\n      <td>NaN</td>\n      <td>NaN</td>\n      <td>NaN</td>\n      <td>NaN</td>\n      <td>NaN</td>\n      <td>NaN</td>\n      <td>NaN</td>\n      <td>NaN</td>\n      <td>...</td>\n      <td>NaN</td>\n      <td>NaN</td>\n      <td>NaN</td>\n      <td>NaN</td>\n      <td>NaN</td>\n      <td>NaN</td>\n      <td>NaN</td>\n      <td>NaN</td>\n      <td>NaN</td>\n      <td>NaN</td>\n    </tr>\n    <tr>\n      <th>4</th>\n      <td>Gemeindecode</td>\n      <td>Gemeindename</td>\n      <td>Einwohner</td>\n      <td>Veränderung in %</td>\n      <td>Bevölkerungs-dichte pro km²</td>\n      <td>Ausländer in %</td>\n      <td>0-19 Jahre</td>\n      <td>20-64 Jahre</td>\n      <td>65 Jahre und mehr</td>\n      <td>Rohe Heiratssziffer</td>\n      <td>...</td>\n      <td>FDP 4)</td>\n      <td>CVP</td>\n      <td>SP</td>\n      <td>SVP</td>\n      <td>EVP/CSP</td>\n      <td>GLP</td>\n      <td>BDP</td>\n      <td>PdA/Sol.</td>\n      <td>GPS</td>\n      <td>Kleine Rechtsparteien</td>\n    </tr>\n    <tr>\n      <th>...</th>\n      <td>...</td>\n      <td>...</td>\n      <td>...</td>\n      <td>...</td>\n      <td>...</td>\n      <td>...</td>\n      <td>...</td>\n      <td>...</td>\n      <td>...</td>\n      <td>...</td>\n      <td>...</td>\n      <td>...</td>\n      <td>...</td>\n      <td>...</td>\n      <td>...</td>\n      <td>...</td>\n      <td>...</td>\n      <td>...</td>\n      <td>...</td>\n      <td>...</td>\n      <td>...</td>\n    </tr>\n    <tr>\n      <th>2226</th>\n      <td>NaN</td>\n      <td>NaN</td>\n      <td>NaN</td>\n      <td>NaN</td>\n      <td>NaN</td>\n      <td>NaN</td>\n      <td>NaN</td>\n      <td>NaN</td>\n      <td>NaN</td>\n      <td>NaN</td>\n      <td>...</td>\n      <td>NaN</td>\n      <td>NaN</td>\n      <td>NaN</td>\n      <td>NaN</td>\n      <td>NaN</td>\n      <td>NaN</td>\n      <td>NaN</td>\n      <td>NaN</td>\n      <td>NaN</td>\n      <td>NaN</td>\n    </tr>\n    <tr>\n      <th>2227</th>\n      <td>Auskunft: Statistikauskunft, 058 463 60 11, in...</td>\n      <td>NaN</td>\n      <td>NaN</td>\n      <td>NaN</td>\n      <td>NaN</td>\n      <td>NaN</td>\n      <td>NaN</td>\n      <td>NaN</td>\n      <td>NaN</td>\n      <td>NaN</td>\n      <td>...</td>\n      <td>NaN</td>\n      <td>NaN</td>\n      <td>NaN</td>\n      <td>NaN</td>\n      <td>NaN</td>\n      <td>NaN</td>\n      <td>NaN</td>\n      <td>NaN</td>\n      <td>NaN</td>\n      <td>NaN</td>\n    </tr>\n    <tr>\n      <th>2228</th>\n      <td>NaN</td>\n      <td>NaN</td>\n      <td>NaN</td>\n      <td>NaN</td>\n      <td>NaN</td>\n      <td>NaN</td>\n      <td>NaN</td>\n      <td>NaN</td>\n      <td>NaN</td>\n      <td>NaN</td>\n      <td>...</td>\n      <td>NaN</td>\n      <td>NaN</td>\n      <td>NaN</td>\n      <td>NaN</td>\n      <td>NaN</td>\n      <td>NaN</td>\n      <td>NaN</td>\n      <td>NaN</td>\n      <td>NaN</td>\n      <td>NaN</td>\n    </tr>\n    <tr>\n      <th>2229</th>\n      <td>Bundesamt für Statistik</td>\n      <td>NaN</td>\n      <td>NaN</td>\n      <td>NaN</td>\n      <td>NaN</td>\n      <td>NaN</td>\n      <td>NaN</td>\n      <td>NaN</td>\n      <td>NaN</td>\n      <td>NaN</td>\n      <td>...</td>\n      <td>NaN</td>\n      <td>NaN</td>\n      <td>NaN</td>\n      <td>NaN</td>\n      <td>NaN</td>\n      <td>NaN</td>\n      <td>NaN</td>\n      <td>NaN</td>\n      <td>NaN</td>\n      <td>NaN</td>\n    </tr>\n    <tr>\n      <th>2230</th>\n      <td>© BFS</td>\n      <td>NaN</td>\n      <td>NaN</td>\n      <td>NaN</td>\n      <td>NaN</td>\n      <td>NaN</td>\n      <td>NaN</td>\n      <td>NaN</td>\n      <td>NaN</td>\n      <td>NaN</td>\n      <td>...</td>\n      <td>NaN</td>\n      <td>NaN</td>\n      <td>NaN</td>\n      <td>NaN</td>\n      <td>NaN</td>\n      <td>NaN</td>\n      <td>NaN</td>\n      <td>NaN</td>\n      <td>NaN</td>\n      <td>NaN</td>\n    </tr>\n  </tbody>\n</table>\n<p>2231 rows × 43 columns</p>\n</div>"
     },
     "metadata": {},
     "execution_count": 8
    }
   ],
   "source": [
    "df = pd.DataFrame(data)\n",
    "df"
   ]
  },
  {
   "cell_type": "code",
   "execution_count": 9,
   "metadata": {},
   "outputs": [
    {
     "output_type": "execute_result",
     "data": {
      "text/plain": [
       "     Regionalporträts 2020: Gemeinden - Kennzahlen          Unnamed: 1  \\\n",
       "4                                     Gemeindecode        Gemeindename   \n",
       "8                                                1     Aeugst am Albis   \n",
       "9                                                2  Affoltern am Albis   \n",
       "10                                               3          Bonstetten   \n",
       "11                                               4     Hausen am Albis   \n",
       "...                                            ...                 ...   \n",
       "2205                                          6806        Vendlincourt   \n",
       "2206                                          6807       Basse-Allaine   \n",
       "2207                                          6808       Clos du Doubs   \n",
       "2208                                          6809         Haute-Ajoie   \n",
       "2209                                          6810          La Baroche   \n",
       "\n",
       "     Unnamed: 2        Unnamed: 3                   Unnamed: 4  \\\n",
       "4     Einwohner  Veränderung in %  Bevölkerungs-dichte pro km²   \n",
       "8          1982          8.662281                     250.5689   \n",
       "9         12229         10.260572                   1154.76865   \n",
       "10         5548          7.540221                   746.702557   \n",
       "11         3701          10.14881                   272.132353   \n",
       "...         ...               ...                          ...   \n",
       "2205        540         -1.639344                    59.016393   \n",
       "2206       1230         -5.891354                    53.385417   \n",
       "2207       1286          1.982554                    20.825911   \n",
       "2208       1095         -5.194805                    26.752993   \n",
       "2209       1162         -2.270816                    37.399421   \n",
       "\n",
       "          Unnamed: 5  Unnamed: 6   Unnamed: 7         Unnamed: 8  \\\n",
       "4     Ausländer in %  0-19 Jahre  20-64 Jahre  65 Jahre und mehr   \n",
       "8          13.874874   19.677094    62.764884          17.558022   \n",
       "9           28.62867   20.508627    61.329626          18.161747   \n",
       "10         16.005768   23.666186    60.310022          16.023792   \n",
       "11         15.617401   21.804918    60.686301          17.508781   \n",
       "...              ...         ...          ...                ...   \n",
       "2205        7.037037   18.888889    56.296296          24.814815   \n",
       "2206        8.211382   21.869919    52.195122          25.934959   \n",
       "2207        8.320373   18.895801    56.143079           24.96112   \n",
       "2208        7.671233    18.26484    56.347032          25.388128   \n",
       "2209        6.282272    21.51463    54.905336          23.580034   \n",
       "\n",
       "               Unnamed: 9  ... Unnamed: 33 Unnamed: 34 Unnamed: 35  \\\n",
       "4     Rohe Heiratssziffer  ...      FDP 4)         CVP          SP   \n",
       "8                4.588325  ...   16.421045    2.497974   11.565102   \n",
       "9                4.676923  ...   13.385437    4.535341   14.645255   \n",
       "10               4.159132  ...   15.354984    3.867961   16.742891   \n",
       "11               4.887984  ...   11.135163    3.934551   13.711509   \n",
       "...                   ...  ...         ...         ...         ...   \n",
       "2205             1.823154  ...   19.069767   22.790698   17.906977   \n",
       "2206             3.276003  ...   13.757962   40.127389   23.566879   \n",
       "2207             3.862495  ...    4.482391   33.297759   21.558164   \n",
       "2208             3.638017  ...    8.390023   37.868481   19.387755   \n",
       "2209             1.710864  ...   13.773796   27.659574   16.349384   \n",
       "\n",
       "     Unnamed: 36 Unnamed: 37 Unnamed: 38 Unnamed: 39 Unnamed: 40 Unnamed: 41  \\\n",
       "4            SVP     EVP/CSP         GLP         BDP    PdA/Sol.         GPS   \n",
       "8      30.380959     3.22747   14.317294    1.263724     0.16211   15.050475   \n",
       "9       30.30692    6.618556   12.666629    2.001445    0.198718   12.590564   \n",
       "10     26.116313    4.194018   16.237935     1.28403    0.176013   12.368531   \n",
       "11      33.18478    4.059761   12.416969    1.610747     0.19312   16.744127   \n",
       "...          ...         ...         ...         ...         ...         ...   \n",
       "2205   21.162791    9.767442           *           *           *    9.302326   \n",
       "2206   11.719745    3.821656           *           *           *    7.006369   \n",
       "2207   14.300961   10.245464           *           *           *   16.115261   \n",
       "2208   18.707483    4.195011           *           *           *   11.451247   \n",
       "2209   20.268757    9.182531           *           *           *   12.765957   \n",
       "\n",
       "                    T21.3.1  \n",
       "4     Kleine Rechtsparteien  \n",
       "8                  3.820647  \n",
       "9                  1.555518  \n",
       "10                 1.385022  \n",
       "11                 1.610747  \n",
       "...                     ...  \n",
       "2205                      *  \n",
       "2206                      *  \n",
       "2207                      *  \n",
       "2208                      *  \n",
       "2209                      *  \n",
       "\n",
       "[2203 rows x 43 columns]"
      ],
      "text/html": "<div>\n<style scoped>\n    .dataframe tbody tr th:only-of-type {\n        vertical-align: middle;\n    }\n\n    .dataframe tbody tr th {\n        vertical-align: top;\n    }\n\n    .dataframe thead th {\n        text-align: right;\n    }\n</style>\n<table border=\"1\" class=\"dataframe\">\n  <thead>\n    <tr style=\"text-align: right;\">\n      <th></th>\n      <th>Regionalporträts 2020: Gemeinden - Kennzahlen</th>\n      <th>Unnamed: 1</th>\n      <th>Unnamed: 2</th>\n      <th>Unnamed: 3</th>\n      <th>Unnamed: 4</th>\n      <th>Unnamed: 5</th>\n      <th>Unnamed: 6</th>\n      <th>Unnamed: 7</th>\n      <th>Unnamed: 8</th>\n      <th>Unnamed: 9</th>\n      <th>...</th>\n      <th>Unnamed: 33</th>\n      <th>Unnamed: 34</th>\n      <th>Unnamed: 35</th>\n      <th>Unnamed: 36</th>\n      <th>Unnamed: 37</th>\n      <th>Unnamed: 38</th>\n      <th>Unnamed: 39</th>\n      <th>Unnamed: 40</th>\n      <th>Unnamed: 41</th>\n      <th>T21.3.1</th>\n    </tr>\n  </thead>\n  <tbody>\n    <tr>\n      <th>4</th>\n      <td>Gemeindecode</td>\n      <td>Gemeindename</td>\n      <td>Einwohner</td>\n      <td>Veränderung in %</td>\n      <td>Bevölkerungs-dichte pro km²</td>\n      <td>Ausländer in %</td>\n      <td>0-19 Jahre</td>\n      <td>20-64 Jahre</td>\n      <td>65 Jahre und mehr</td>\n      <td>Rohe Heiratssziffer</td>\n      <td>...</td>\n      <td>FDP 4)</td>\n      <td>CVP</td>\n      <td>SP</td>\n      <td>SVP</td>\n      <td>EVP/CSP</td>\n      <td>GLP</td>\n      <td>BDP</td>\n      <td>PdA/Sol.</td>\n      <td>GPS</td>\n      <td>Kleine Rechtsparteien</td>\n    </tr>\n    <tr>\n      <th>8</th>\n      <td>1</td>\n      <td>Aeugst am Albis</td>\n      <td>1982</td>\n      <td>8.662281</td>\n      <td>250.5689</td>\n      <td>13.874874</td>\n      <td>19.677094</td>\n      <td>62.764884</td>\n      <td>17.558022</td>\n      <td>4.588325</td>\n      <td>...</td>\n      <td>16.421045</td>\n      <td>2.497974</td>\n      <td>11.565102</td>\n      <td>30.380959</td>\n      <td>3.22747</td>\n      <td>14.317294</td>\n      <td>1.263724</td>\n      <td>0.16211</td>\n      <td>15.050475</td>\n      <td>3.820647</td>\n    </tr>\n    <tr>\n      <th>9</th>\n      <td>2</td>\n      <td>Affoltern am Albis</td>\n      <td>12229</td>\n      <td>10.260572</td>\n      <td>1154.76865</td>\n      <td>28.62867</td>\n      <td>20.508627</td>\n      <td>61.329626</td>\n      <td>18.161747</td>\n      <td>4.676923</td>\n      <td>...</td>\n      <td>13.385437</td>\n      <td>4.535341</td>\n      <td>14.645255</td>\n      <td>30.30692</td>\n      <td>6.618556</td>\n      <td>12.666629</td>\n      <td>2.001445</td>\n      <td>0.198718</td>\n      <td>12.590564</td>\n      <td>1.555518</td>\n    </tr>\n    <tr>\n      <th>10</th>\n      <td>3</td>\n      <td>Bonstetten</td>\n      <td>5548</td>\n      <td>7.540221</td>\n      <td>746.702557</td>\n      <td>16.005768</td>\n      <td>23.666186</td>\n      <td>60.310022</td>\n      <td>16.023792</td>\n      <td>4.159132</td>\n      <td>...</td>\n      <td>15.354984</td>\n      <td>3.867961</td>\n      <td>16.742891</td>\n      <td>26.116313</td>\n      <td>4.194018</td>\n      <td>16.237935</td>\n      <td>1.28403</td>\n      <td>0.176013</td>\n      <td>12.368531</td>\n      <td>1.385022</td>\n    </tr>\n    <tr>\n      <th>11</th>\n      <td>4</td>\n      <td>Hausen am Albis</td>\n      <td>3701</td>\n      <td>10.14881</td>\n      <td>272.132353</td>\n      <td>15.617401</td>\n      <td>21.804918</td>\n      <td>60.686301</td>\n      <td>17.508781</td>\n      <td>4.887984</td>\n      <td>...</td>\n      <td>11.135163</td>\n      <td>3.934551</td>\n      <td>13.711509</td>\n      <td>33.18478</td>\n      <td>4.059761</td>\n      <td>12.416969</td>\n      <td>1.610747</td>\n      <td>0.19312</td>\n      <td>16.744127</td>\n      <td>1.610747</td>\n    </tr>\n    <tr>\n      <th>...</th>\n      <td>...</td>\n      <td>...</td>\n      <td>...</td>\n      <td>...</td>\n      <td>...</td>\n      <td>...</td>\n      <td>...</td>\n      <td>...</td>\n      <td>...</td>\n      <td>...</td>\n      <td>...</td>\n      <td>...</td>\n      <td>...</td>\n      <td>...</td>\n      <td>...</td>\n      <td>...</td>\n      <td>...</td>\n      <td>...</td>\n      <td>...</td>\n      <td>...</td>\n      <td>...</td>\n    </tr>\n    <tr>\n      <th>2205</th>\n      <td>6806</td>\n      <td>Vendlincourt</td>\n      <td>540</td>\n      <td>-1.639344</td>\n      <td>59.016393</td>\n      <td>7.037037</td>\n      <td>18.888889</td>\n      <td>56.296296</td>\n      <td>24.814815</td>\n      <td>1.823154</td>\n      <td>...</td>\n      <td>19.069767</td>\n      <td>22.790698</td>\n      <td>17.906977</td>\n      <td>21.162791</td>\n      <td>9.767442</td>\n      <td>*</td>\n      <td>*</td>\n      <td>*</td>\n      <td>9.302326</td>\n      <td>*</td>\n    </tr>\n    <tr>\n      <th>2206</th>\n      <td>6807</td>\n      <td>Basse-Allaine</td>\n      <td>1230</td>\n      <td>-5.891354</td>\n      <td>53.385417</td>\n      <td>8.211382</td>\n      <td>21.869919</td>\n      <td>52.195122</td>\n      <td>25.934959</td>\n      <td>3.276003</td>\n      <td>...</td>\n      <td>13.757962</td>\n      <td>40.127389</td>\n      <td>23.566879</td>\n      <td>11.719745</td>\n      <td>3.821656</td>\n      <td>*</td>\n      <td>*</td>\n      <td>*</td>\n      <td>7.006369</td>\n      <td>*</td>\n    </tr>\n    <tr>\n      <th>2207</th>\n      <td>6808</td>\n      <td>Clos du Doubs</td>\n      <td>1286</td>\n      <td>1.982554</td>\n      <td>20.825911</td>\n      <td>8.320373</td>\n      <td>18.895801</td>\n      <td>56.143079</td>\n      <td>24.96112</td>\n      <td>3.862495</td>\n      <td>...</td>\n      <td>4.482391</td>\n      <td>33.297759</td>\n      <td>21.558164</td>\n      <td>14.300961</td>\n      <td>10.245464</td>\n      <td>*</td>\n      <td>*</td>\n      <td>*</td>\n      <td>16.115261</td>\n      <td>*</td>\n    </tr>\n    <tr>\n      <th>2208</th>\n      <td>6809</td>\n      <td>Haute-Ajoie</td>\n      <td>1095</td>\n      <td>-5.194805</td>\n      <td>26.752993</td>\n      <td>7.671233</td>\n      <td>18.26484</td>\n      <td>56.347032</td>\n      <td>25.388128</td>\n      <td>3.638017</td>\n      <td>...</td>\n      <td>8.390023</td>\n      <td>37.868481</td>\n      <td>19.387755</td>\n      <td>18.707483</td>\n      <td>4.195011</td>\n      <td>*</td>\n      <td>*</td>\n      <td>*</td>\n      <td>11.451247</td>\n      <td>*</td>\n    </tr>\n    <tr>\n      <th>2209</th>\n      <td>6810</td>\n      <td>La Baroche</td>\n      <td>1162</td>\n      <td>-2.270816</td>\n      <td>37.399421</td>\n      <td>6.282272</td>\n      <td>21.51463</td>\n      <td>54.905336</td>\n      <td>23.580034</td>\n      <td>1.710864</td>\n      <td>...</td>\n      <td>13.773796</td>\n      <td>27.659574</td>\n      <td>16.349384</td>\n      <td>20.268757</td>\n      <td>9.182531</td>\n      <td>*</td>\n      <td>*</td>\n      <td>*</td>\n      <td>12.765957</td>\n      <td>*</td>\n    </tr>\n  </tbody>\n</table>\n<p>2203 rows × 43 columns</p>\n</div>"
     },
     "metadata": {},
     "execution_count": 9
    }
   ],
   "source": [
    "df = df.dropna()\n",
    "df"
   ]
  },
  {
   "cell_type": "code",
   "execution_count": 10,
   "metadata": {},
   "outputs": [],
   "source": [
    "df.columns = data.loc[4].values\n",
    "df = df.iloc[1:]"
   ]
  },
  {
   "cell_type": "code",
   "execution_count": 11,
   "metadata": {},
   "outputs": [
    {
     "output_type": "execute_result",
     "data": {
      "text/plain": [
       "     Gemeindecode        Gemeindename Einwohner Veränderung in %  \\\n",
       "8               1     Aeugst am Albis      1982         8.662281   \n",
       "9               2  Affoltern am Albis     12229        10.260572   \n",
       "10              3          Bonstetten      5548         7.540221   \n",
       "11              4     Hausen am Albis      3701         10.14881   \n",
       "12              5            Hedingen      3734         9.501466   \n",
       "...           ...                 ...       ...              ...   \n",
       "2205         6806        Vendlincourt       540        -1.639344   \n",
       "2206         6807       Basse-Allaine      1230        -5.891354   \n",
       "2207         6808       Clos du Doubs      1286         1.982554   \n",
       "2208         6809         Haute-Ajoie      1095        -5.194805   \n",
       "2209         6810          La Baroche      1162        -2.270816   \n",
       "\n",
       "     Bevölkerungs-dichte pro km² Ausländer in % 0-19 Jahre 20-64 Jahre  \\\n",
       "8                       250.5689      13.874874  19.677094   62.764884   \n",
       "9                     1154.76865       28.62867  20.508627   61.329626   \n",
       "10                    746.702557      16.005768  23.666186   60.310022   \n",
       "11                    272.132353      15.617401  21.804918   60.686301   \n",
       "12                    571.822358      15.854312  21.772898   61.756829   \n",
       "...                          ...            ...        ...         ...   \n",
       "2205                   59.016393       7.037037  18.888889   56.296296   \n",
       "2206                   53.385417       8.211382  21.869919   52.195122   \n",
       "2207                   20.825911       8.320373  18.895801   56.143079   \n",
       "2208                   26.752993       7.671233   18.26484   56.347032   \n",
       "2209                   37.399421       6.282272   21.51463   54.905336   \n",
       "\n",
       "     65 Jahre und mehr Rohe Heiratssziffer  ...     FDP 4)        CVP  \\\n",
       "8            17.558022            4.588325  ...  16.421045   2.497974   \n",
       "9            18.161747            4.676923  ...  13.385437   4.535341   \n",
       "10           16.023792            4.159132  ...  15.354984   3.867961   \n",
       "11           17.508781            4.887984  ...  11.135163   3.934551   \n",
       "12           16.470273            3.500269  ...  13.990898    3.87366   \n",
       "...                ...                 ...  ...        ...        ...   \n",
       "2205         24.814815            1.823154  ...  19.069767  22.790698   \n",
       "2206         25.934959            3.276003  ...  13.757962  40.127389   \n",
       "2207          24.96112            3.862495  ...   4.482391  33.297759   \n",
       "2208         25.388128            3.638017  ...   8.390023  37.868481   \n",
       "2209         23.580034            1.710864  ...  13.773796  27.659574   \n",
       "\n",
       "             SP        SVP    EVP/CSP        GLP       BDP  PdA/Sol.  \\\n",
       "8     11.565102  30.380959    3.22747  14.317294  1.263724   0.16211   \n",
       "9     14.645255   30.30692   6.618556  12.666629  2.001445  0.198718   \n",
       "10    16.742891  26.116313   4.194018  16.237935   1.28403  0.176013   \n",
       "11    13.711509   33.18478   4.059761  12.416969  1.610747   0.19312   \n",
       "12    16.738323  26.601791   3.726851  16.415344  1.881252  0.182463   \n",
       "...         ...        ...        ...        ...       ...       ...   \n",
       "2205  17.906977  21.162791   9.767442          *         *         *   \n",
       "2206  23.566879  11.719745   3.821656          *         *         *   \n",
       "2207  21.558164  14.300961  10.245464          *         *         *   \n",
       "2208  19.387755  18.707483   4.195011          *         *         *   \n",
       "2209  16.349384  20.268757   9.182531          *         *         *   \n",
       "\n",
       "            GPS Kleine Rechtsparteien  \n",
       "8     15.050475              3.820647  \n",
       "9     12.590564              1.555518  \n",
       "10    12.368531              1.385022  \n",
       "11    16.744127              1.610747  \n",
       "12    12.348734              2.170676  \n",
       "...         ...                   ...  \n",
       "2205   9.302326                     *  \n",
       "2206   7.006369                     *  \n",
       "2207  16.115261                     *  \n",
       "2208  11.451247                     *  \n",
       "2209  12.765957                     *  \n",
       "\n",
       "[2202 rows x 43 columns]"
      ],
      "text/html": "<div>\n<style scoped>\n    .dataframe tbody tr th:only-of-type {\n        vertical-align: middle;\n    }\n\n    .dataframe tbody tr th {\n        vertical-align: top;\n    }\n\n    .dataframe thead th {\n        text-align: right;\n    }\n</style>\n<table border=\"1\" class=\"dataframe\">\n  <thead>\n    <tr style=\"text-align: right;\">\n      <th></th>\n      <th>Gemeindecode</th>\n      <th>Gemeindename</th>\n      <th>Einwohner</th>\n      <th>Veränderung in %</th>\n      <th>Bevölkerungs-dichte pro km²</th>\n      <th>Ausländer in %</th>\n      <th>0-19 Jahre</th>\n      <th>20-64 Jahre</th>\n      <th>65 Jahre und mehr</th>\n      <th>Rohe Heiratssziffer</th>\n      <th>...</th>\n      <th>FDP 4)</th>\n      <th>CVP</th>\n      <th>SP</th>\n      <th>SVP</th>\n      <th>EVP/CSP</th>\n      <th>GLP</th>\n      <th>BDP</th>\n      <th>PdA/Sol.</th>\n      <th>GPS</th>\n      <th>Kleine Rechtsparteien</th>\n    </tr>\n  </thead>\n  <tbody>\n    <tr>\n      <th>8</th>\n      <td>1</td>\n      <td>Aeugst am Albis</td>\n      <td>1982</td>\n      <td>8.662281</td>\n      <td>250.5689</td>\n      <td>13.874874</td>\n      <td>19.677094</td>\n      <td>62.764884</td>\n      <td>17.558022</td>\n      <td>4.588325</td>\n      <td>...</td>\n      <td>16.421045</td>\n      <td>2.497974</td>\n      <td>11.565102</td>\n      <td>30.380959</td>\n      <td>3.22747</td>\n      <td>14.317294</td>\n      <td>1.263724</td>\n      <td>0.16211</td>\n      <td>15.050475</td>\n      <td>3.820647</td>\n    </tr>\n    <tr>\n      <th>9</th>\n      <td>2</td>\n      <td>Affoltern am Albis</td>\n      <td>12229</td>\n      <td>10.260572</td>\n      <td>1154.76865</td>\n      <td>28.62867</td>\n      <td>20.508627</td>\n      <td>61.329626</td>\n      <td>18.161747</td>\n      <td>4.676923</td>\n      <td>...</td>\n      <td>13.385437</td>\n      <td>4.535341</td>\n      <td>14.645255</td>\n      <td>30.30692</td>\n      <td>6.618556</td>\n      <td>12.666629</td>\n      <td>2.001445</td>\n      <td>0.198718</td>\n      <td>12.590564</td>\n      <td>1.555518</td>\n    </tr>\n    <tr>\n      <th>10</th>\n      <td>3</td>\n      <td>Bonstetten</td>\n      <td>5548</td>\n      <td>7.540221</td>\n      <td>746.702557</td>\n      <td>16.005768</td>\n      <td>23.666186</td>\n      <td>60.310022</td>\n      <td>16.023792</td>\n      <td>4.159132</td>\n      <td>...</td>\n      <td>15.354984</td>\n      <td>3.867961</td>\n      <td>16.742891</td>\n      <td>26.116313</td>\n      <td>4.194018</td>\n      <td>16.237935</td>\n      <td>1.28403</td>\n      <td>0.176013</td>\n      <td>12.368531</td>\n      <td>1.385022</td>\n    </tr>\n    <tr>\n      <th>11</th>\n      <td>4</td>\n      <td>Hausen am Albis</td>\n      <td>3701</td>\n      <td>10.14881</td>\n      <td>272.132353</td>\n      <td>15.617401</td>\n      <td>21.804918</td>\n      <td>60.686301</td>\n      <td>17.508781</td>\n      <td>4.887984</td>\n      <td>...</td>\n      <td>11.135163</td>\n      <td>3.934551</td>\n      <td>13.711509</td>\n      <td>33.18478</td>\n      <td>4.059761</td>\n      <td>12.416969</td>\n      <td>1.610747</td>\n      <td>0.19312</td>\n      <td>16.744127</td>\n      <td>1.610747</td>\n    </tr>\n    <tr>\n      <th>12</th>\n      <td>5</td>\n      <td>Hedingen</td>\n      <td>3734</td>\n      <td>9.501466</td>\n      <td>571.822358</td>\n      <td>15.854312</td>\n      <td>21.772898</td>\n      <td>61.756829</td>\n      <td>16.470273</td>\n      <td>3.500269</td>\n      <td>...</td>\n      <td>13.990898</td>\n      <td>3.87366</td>\n      <td>16.738323</td>\n      <td>26.601791</td>\n      <td>3.726851</td>\n      <td>16.415344</td>\n      <td>1.881252</td>\n      <td>0.182463</td>\n      <td>12.348734</td>\n      <td>2.170676</td>\n    </tr>\n    <tr>\n      <th>...</th>\n      <td>...</td>\n      <td>...</td>\n      <td>...</td>\n      <td>...</td>\n      <td>...</td>\n      <td>...</td>\n      <td>...</td>\n      <td>...</td>\n      <td>...</td>\n      <td>...</td>\n      <td>...</td>\n      <td>...</td>\n      <td>...</td>\n      <td>...</td>\n      <td>...</td>\n      <td>...</td>\n      <td>...</td>\n      <td>...</td>\n      <td>...</td>\n      <td>...</td>\n      <td>...</td>\n    </tr>\n    <tr>\n      <th>2205</th>\n      <td>6806</td>\n      <td>Vendlincourt</td>\n      <td>540</td>\n      <td>-1.639344</td>\n      <td>59.016393</td>\n      <td>7.037037</td>\n      <td>18.888889</td>\n      <td>56.296296</td>\n      <td>24.814815</td>\n      <td>1.823154</td>\n      <td>...</td>\n      <td>19.069767</td>\n      <td>22.790698</td>\n      <td>17.906977</td>\n      <td>21.162791</td>\n      <td>9.767442</td>\n      <td>*</td>\n      <td>*</td>\n      <td>*</td>\n      <td>9.302326</td>\n      <td>*</td>\n    </tr>\n    <tr>\n      <th>2206</th>\n      <td>6807</td>\n      <td>Basse-Allaine</td>\n      <td>1230</td>\n      <td>-5.891354</td>\n      <td>53.385417</td>\n      <td>8.211382</td>\n      <td>21.869919</td>\n      <td>52.195122</td>\n      <td>25.934959</td>\n      <td>3.276003</td>\n      <td>...</td>\n      <td>13.757962</td>\n      <td>40.127389</td>\n      <td>23.566879</td>\n      <td>11.719745</td>\n      <td>3.821656</td>\n      <td>*</td>\n      <td>*</td>\n      <td>*</td>\n      <td>7.006369</td>\n      <td>*</td>\n    </tr>\n    <tr>\n      <th>2207</th>\n      <td>6808</td>\n      <td>Clos du Doubs</td>\n      <td>1286</td>\n      <td>1.982554</td>\n      <td>20.825911</td>\n      <td>8.320373</td>\n      <td>18.895801</td>\n      <td>56.143079</td>\n      <td>24.96112</td>\n      <td>3.862495</td>\n      <td>...</td>\n      <td>4.482391</td>\n      <td>33.297759</td>\n      <td>21.558164</td>\n      <td>14.300961</td>\n      <td>10.245464</td>\n      <td>*</td>\n      <td>*</td>\n      <td>*</td>\n      <td>16.115261</td>\n      <td>*</td>\n    </tr>\n    <tr>\n      <th>2208</th>\n      <td>6809</td>\n      <td>Haute-Ajoie</td>\n      <td>1095</td>\n      <td>-5.194805</td>\n      <td>26.752993</td>\n      <td>7.671233</td>\n      <td>18.26484</td>\n      <td>56.347032</td>\n      <td>25.388128</td>\n      <td>3.638017</td>\n      <td>...</td>\n      <td>8.390023</td>\n      <td>37.868481</td>\n      <td>19.387755</td>\n      <td>18.707483</td>\n      <td>4.195011</td>\n      <td>*</td>\n      <td>*</td>\n      <td>*</td>\n      <td>11.451247</td>\n      <td>*</td>\n    </tr>\n    <tr>\n      <th>2209</th>\n      <td>6810</td>\n      <td>La Baroche</td>\n      <td>1162</td>\n      <td>-2.270816</td>\n      <td>37.399421</td>\n      <td>6.282272</td>\n      <td>21.51463</td>\n      <td>54.905336</td>\n      <td>23.580034</td>\n      <td>1.710864</td>\n      <td>...</td>\n      <td>13.773796</td>\n      <td>27.659574</td>\n      <td>16.349384</td>\n      <td>20.268757</td>\n      <td>9.182531</td>\n      <td>*</td>\n      <td>*</td>\n      <td>*</td>\n      <td>12.765957</td>\n      <td>*</td>\n    </tr>\n  </tbody>\n</table>\n<p>2202 rows × 43 columns</p>\n</div>"
     },
     "metadata": {},
     "execution_count": 11
    }
   ],
   "source": [
    "df"
   ]
  },
  {
   "cell_type": "code",
   "execution_count": 12,
   "metadata": {},
   "outputs": [
    {
     "output_type": "stream",
     "name": "stderr",
     "text": [
      "/opt/homebrew/Caskroom/miniconda/base/envs/WODSS/lib/python3.9/site-packages/pandas/core/frame.py:4441: SettingWithCopyWarning: \nA value is trying to be set on a copy of a slice from a DataFrame\n\nSee the caveats in the documentation: https://pandas.pydata.org/pandas-docs/stable/user_guide/indexing.html#returning-a-view-versus-a-copy\n  return super().rename(\n"
     ]
    }
   ],
   "source": [
    "df_population_for_bfsNr = df[['Gemeindecode', 'Gemeindename','Einwohner']]\n",
    "df_population_for_bfsNr.rename(columns={'Gemeindecode':'BFS_Nr'}, inplace=True)\n",
    "df_population_for_bfsNr.reset_index(inplace=True)\n",
    "\n",
    "df_population_for_bfsNr = df_population_for_bfsNr.drop(['index'], axis=1)\n",
    "\n",
    "df_population_for_bfsNr.set_index('BFS_Nr',inplace=True)"
   ]
  },
  {
   "cell_type": "code",
   "execution_count": 13,
   "metadata": {},
   "outputs": [
    {
     "output_type": "execute_result",
     "data": {
      "text/plain": [
       "Gemeindename    Remaufens\n",
       "Einwohner            1140\n",
       "Name: 2333, dtype: object"
      ]
     },
     "metadata": {},
     "execution_count": 13
    }
   ],
   "source": [
    "df_population_for_bfsNr.loc[2333]"
   ]
  },
  {
   "cell_type": "code",
   "execution_count": 14,
   "metadata": {},
   "outputs": [
    {
     "output_type": "execute_result",
     "data": {
      "text/plain": [
       "              Gemeindename Einwohner\n",
       "BFS_Nr                              \n",
       "1          Aeugst am Albis      1982\n",
       "2       Affoltern am Albis     12229\n",
       "3               Bonstetten      5548\n",
       "4          Hausen am Albis      3701\n",
       "5                 Hedingen      3734\n",
       "...                    ...       ...\n",
       "6806          Vendlincourt       540\n",
       "6807         Basse-Allaine      1230\n",
       "6808         Clos du Doubs      1286\n",
       "6809           Haute-Ajoie      1095\n",
       "6810            La Baroche      1162\n",
       "\n",
       "[2202 rows x 2 columns]"
      ],
      "text/html": "<div>\n<style scoped>\n    .dataframe tbody tr th:only-of-type {\n        vertical-align: middle;\n    }\n\n    .dataframe tbody tr th {\n        vertical-align: top;\n    }\n\n    .dataframe thead th {\n        text-align: right;\n    }\n</style>\n<table border=\"1\" class=\"dataframe\">\n  <thead>\n    <tr style=\"text-align: right;\">\n      <th></th>\n      <th>Gemeindename</th>\n      <th>Einwohner</th>\n    </tr>\n    <tr>\n      <th>BFS_Nr</th>\n      <th></th>\n      <th></th>\n    </tr>\n  </thead>\n  <tbody>\n    <tr>\n      <th>1</th>\n      <td>Aeugst am Albis</td>\n      <td>1982</td>\n    </tr>\n    <tr>\n      <th>2</th>\n      <td>Affoltern am Albis</td>\n      <td>12229</td>\n    </tr>\n    <tr>\n      <th>3</th>\n      <td>Bonstetten</td>\n      <td>5548</td>\n    </tr>\n    <tr>\n      <th>4</th>\n      <td>Hausen am Albis</td>\n      <td>3701</td>\n    </tr>\n    <tr>\n      <th>5</th>\n      <td>Hedingen</td>\n      <td>3734</td>\n    </tr>\n    <tr>\n      <th>...</th>\n      <td>...</td>\n      <td>...</td>\n    </tr>\n    <tr>\n      <th>6806</th>\n      <td>Vendlincourt</td>\n      <td>540</td>\n    </tr>\n    <tr>\n      <th>6807</th>\n      <td>Basse-Allaine</td>\n      <td>1230</td>\n    </tr>\n    <tr>\n      <th>6808</th>\n      <td>Clos du Doubs</td>\n      <td>1286</td>\n    </tr>\n    <tr>\n      <th>6809</th>\n      <td>Haute-Ajoie</td>\n      <td>1095</td>\n    </tr>\n    <tr>\n      <th>6810</th>\n      <td>La Baroche</td>\n      <td>1162</td>\n    </tr>\n  </tbody>\n</table>\n<p>2202 rows × 2 columns</p>\n</div>"
     },
     "metadata": {},
     "execution_count": 14
    }
   ],
   "source": [
    "df_population_for_bfsNr"
   ]
  },
  {
   "cell_type": "code",
   "execution_count": 15,
   "metadata": {},
   "outputs": [],
   "source": [
    "import fetch_gr as fgr"
   ]
  },
  {
   "cell_type": "code",
   "execution_count": 16,
   "metadata": {
    "tags": []
   },
   "outputs": [
    {
     "output_type": "execute_result",
     "data": {
      "text/plain": [
       "          Datum                       Region  Neue_Faelle  Aktive_Faelle  \\\n",
       "0    2020-02-26                       Albula            0              0   \n",
       "1    2020-02-26                      Bernina            0              0   \n",
       "2    2020-02-26  Engiadina Bassa/Val Müstair            0              0   \n",
       "3    2020-02-26                      Imboden            0              0   \n",
       "4    2020-02-26                    Landquart            0              0   \n",
       "...         ...                          ...          ...            ...   \n",
       "1995 2020-08-10                      Imboden            0              4   \n",
       "1996 2020-08-10                    Landquart            0              0   \n",
       "1997 2020-08-10                       Maloja            1              4   \n",
       "1998 2020-08-10                        Moesa            0              0   \n",
       "1999 2020-08-10                      Plessur            2              3   \n",
       "\n",
       "      Faelle__kumuliert_  Verstorbene  Verstorbene__kumuliert_   FID  \n",
       "0                      0            0                        0     1  \n",
       "1                      0            0                        0     2  \n",
       "2                      0            0                        0     3  \n",
       "3                      0            0                        0     4  \n",
       "4                      0            0                        0     5  \n",
       "...                  ...          ...                      ...   ...  \n",
       "1995                  50            0                        0  1996  \n",
       "1996                  95            0                        5  1997  \n",
       "1997                 239            0                        9  1998  \n",
       "1998                  85            0                       11  1999  \n",
       "1999                 138            0                       11  2000  \n",
       "\n",
       "[2000 rows x 8 columns]"
      ],
      "text/html": "<div>\n<style scoped>\n    .dataframe tbody tr th:only-of-type {\n        vertical-align: middle;\n    }\n\n    .dataframe tbody tr th {\n        vertical-align: top;\n    }\n\n    .dataframe thead th {\n        text-align: right;\n    }\n</style>\n<table border=\"1\" class=\"dataframe\">\n  <thead>\n    <tr style=\"text-align: right;\">\n      <th></th>\n      <th>Datum</th>\n      <th>Region</th>\n      <th>Neue_Faelle</th>\n      <th>Aktive_Faelle</th>\n      <th>Faelle__kumuliert_</th>\n      <th>Verstorbene</th>\n      <th>Verstorbene__kumuliert_</th>\n      <th>FID</th>\n    </tr>\n  </thead>\n  <tbody>\n    <tr>\n      <th>0</th>\n      <td>2020-02-26</td>\n      <td>Albula</td>\n      <td>0</td>\n      <td>0</td>\n      <td>0</td>\n      <td>0</td>\n      <td>0</td>\n      <td>1</td>\n    </tr>\n    <tr>\n      <th>1</th>\n      <td>2020-02-26</td>\n      <td>Bernina</td>\n      <td>0</td>\n      <td>0</td>\n      <td>0</td>\n      <td>0</td>\n      <td>0</td>\n      <td>2</td>\n    </tr>\n    <tr>\n      <th>2</th>\n      <td>2020-02-26</td>\n      <td>Engiadina Bassa/Val Müstair</td>\n      <td>0</td>\n      <td>0</td>\n      <td>0</td>\n      <td>0</td>\n      <td>0</td>\n      <td>3</td>\n    </tr>\n    <tr>\n      <th>3</th>\n      <td>2020-02-26</td>\n      <td>Imboden</td>\n      <td>0</td>\n      <td>0</td>\n      <td>0</td>\n      <td>0</td>\n      <td>0</td>\n      <td>4</td>\n    </tr>\n    <tr>\n      <th>4</th>\n      <td>2020-02-26</td>\n      <td>Landquart</td>\n      <td>0</td>\n      <td>0</td>\n      <td>0</td>\n      <td>0</td>\n      <td>0</td>\n      <td>5</td>\n    </tr>\n    <tr>\n      <th>...</th>\n      <td>...</td>\n      <td>...</td>\n      <td>...</td>\n      <td>...</td>\n      <td>...</td>\n      <td>...</td>\n      <td>...</td>\n      <td>...</td>\n    </tr>\n    <tr>\n      <th>1995</th>\n      <td>2020-08-10</td>\n      <td>Imboden</td>\n      <td>0</td>\n      <td>4</td>\n      <td>50</td>\n      <td>0</td>\n      <td>0</td>\n      <td>1996</td>\n    </tr>\n    <tr>\n      <th>1996</th>\n      <td>2020-08-10</td>\n      <td>Landquart</td>\n      <td>0</td>\n      <td>0</td>\n      <td>95</td>\n      <td>0</td>\n      <td>5</td>\n      <td>1997</td>\n    </tr>\n    <tr>\n      <th>1997</th>\n      <td>2020-08-10</td>\n      <td>Maloja</td>\n      <td>1</td>\n      <td>4</td>\n      <td>239</td>\n      <td>0</td>\n      <td>9</td>\n      <td>1998</td>\n    </tr>\n    <tr>\n      <th>1998</th>\n      <td>2020-08-10</td>\n      <td>Moesa</td>\n      <td>0</td>\n      <td>0</td>\n      <td>85</td>\n      <td>0</td>\n      <td>11</td>\n      <td>1999</td>\n    </tr>\n    <tr>\n      <th>1999</th>\n      <td>2020-08-10</td>\n      <td>Plessur</td>\n      <td>2</td>\n      <td>3</td>\n      <td>138</td>\n      <td>0</td>\n      <td>11</td>\n      <td>2000</td>\n    </tr>\n  </tbody>\n</table>\n<p>2000 rows × 8 columns</p>\n</div>"
     },
     "metadata": {},
     "execution_count": 16
    }
   ],
   "source": [
    "df_cases = fgr.get_canton_data_df()\n",
    "df_cases"
   ]
  },
  {
   "cell_type": "code",
   "execution_count": 17,
   "metadata": {},
   "outputs": [],
   "source": [
    "import fetch_municipalities as fmp"
   ]
  },
  {
   "cell_type": "code",
   "execution_count": 18,
   "metadata": {},
   "outputs": [
    {
     "output_type": "execute_result",
     "data": {
      "text/plain": [
       "              Gemeindename  Bezirks_Nr        Bezirksname Kanton  \\\n",
       "BFS_Nr                                                             \n",
       "3542          Albula/Alvra        1841             Albula     GR   \n",
       "3701                Andeer        1851            Viamala     GR   \n",
       "3921                 Arosa        1848            Plessur     GR   \n",
       "3681                 Avers        1851            Viamala     GR   \n",
       "3781                 Bever        1846             Maloja     GR   \n",
       "...                    ...         ...                ...    ...   \n",
       "3714             Rheinwald        1851            Viamala     GR   \n",
       "3785    La Punt Chamues-ch        1846             Maloja     GR   \n",
       "3901                  Chur        1848            Plessur     GR   \n",
       "3871              Klosters        1849  Prättigau / Davos     GR   \n",
       "3715    Muntogna da Schons        1851            Viamala     GR   \n",
       "\n",
       "       Aufnahmedatum  Aufhebungsdatum  Hist_Nr  \n",
       "BFS_Nr                                          \n",
       "3542      01.01.2017              NaN    16062  \n",
       "3701      01.01.2017              NaN    16048  \n",
       "3921      01.01.2017              NaN    16060  \n",
       "3681      01.01.2017              NaN    15984  \n",
       "3781      01.01.2017              NaN    16001  \n",
       "...              ...              ...      ...  \n",
       "3714      01.01.2019              NaN    16125  \n",
       "3785      01.10.2020              NaN    16586  \n",
       "3901      01.01.2021              NaN    16599  \n",
       "3871      01.01.2021              NaN    16610  \n",
       "3715      01.01.2021              NaN    16598  \n",
       "\n",
       "[101 rows x 7 columns]"
      ],
      "text/html": "<div>\n<style scoped>\n    .dataframe tbody tr th:only-of-type {\n        vertical-align: middle;\n    }\n\n    .dataframe tbody tr th {\n        vertical-align: top;\n    }\n\n    .dataframe thead th {\n        text-align: right;\n    }\n</style>\n<table border=\"1\" class=\"dataframe\">\n  <thead>\n    <tr style=\"text-align: right;\">\n      <th></th>\n      <th>Gemeindename</th>\n      <th>Bezirks_Nr</th>\n      <th>Bezirksname</th>\n      <th>Kanton</th>\n      <th>Aufnahmedatum</th>\n      <th>Aufhebungsdatum</th>\n      <th>Hist_Nr</th>\n    </tr>\n    <tr>\n      <th>BFS_Nr</th>\n      <th></th>\n      <th></th>\n      <th></th>\n      <th></th>\n      <th></th>\n      <th></th>\n      <th></th>\n    </tr>\n  </thead>\n  <tbody>\n    <tr>\n      <th>3542</th>\n      <td>Albula/Alvra</td>\n      <td>1841</td>\n      <td>Albula</td>\n      <td>GR</td>\n      <td>01.01.2017</td>\n      <td>NaN</td>\n      <td>16062</td>\n    </tr>\n    <tr>\n      <th>3701</th>\n      <td>Andeer</td>\n      <td>1851</td>\n      <td>Viamala</td>\n      <td>GR</td>\n      <td>01.01.2017</td>\n      <td>NaN</td>\n      <td>16048</td>\n    </tr>\n    <tr>\n      <th>3921</th>\n      <td>Arosa</td>\n      <td>1848</td>\n      <td>Plessur</td>\n      <td>GR</td>\n      <td>01.01.2017</td>\n      <td>NaN</td>\n      <td>16060</td>\n    </tr>\n    <tr>\n      <th>3681</th>\n      <td>Avers</td>\n      <td>1851</td>\n      <td>Viamala</td>\n      <td>GR</td>\n      <td>01.01.2017</td>\n      <td>NaN</td>\n      <td>15984</td>\n    </tr>\n    <tr>\n      <th>3781</th>\n      <td>Bever</td>\n      <td>1846</td>\n      <td>Maloja</td>\n      <td>GR</td>\n      <td>01.01.2017</td>\n      <td>NaN</td>\n      <td>16001</td>\n    </tr>\n    <tr>\n      <th>...</th>\n      <td>...</td>\n      <td>...</td>\n      <td>...</td>\n      <td>...</td>\n      <td>...</td>\n      <td>...</td>\n      <td>...</td>\n    </tr>\n    <tr>\n      <th>3714</th>\n      <td>Rheinwald</td>\n      <td>1851</td>\n      <td>Viamala</td>\n      <td>GR</td>\n      <td>01.01.2019</td>\n      <td>NaN</td>\n      <td>16125</td>\n    </tr>\n    <tr>\n      <th>3785</th>\n      <td>La Punt Chamues-ch</td>\n      <td>1846</td>\n      <td>Maloja</td>\n      <td>GR</td>\n      <td>01.10.2020</td>\n      <td>NaN</td>\n      <td>16586</td>\n    </tr>\n    <tr>\n      <th>3901</th>\n      <td>Chur</td>\n      <td>1848</td>\n      <td>Plessur</td>\n      <td>GR</td>\n      <td>01.01.2021</td>\n      <td>NaN</td>\n      <td>16599</td>\n    </tr>\n    <tr>\n      <th>3871</th>\n      <td>Klosters</td>\n      <td>1849</td>\n      <td>Prättigau / Davos</td>\n      <td>GR</td>\n      <td>01.01.2021</td>\n      <td>NaN</td>\n      <td>16610</td>\n    </tr>\n    <tr>\n      <th>3715</th>\n      <td>Muntogna da Schons</td>\n      <td>1851</td>\n      <td>Viamala</td>\n      <td>GR</td>\n      <td>01.01.2021</td>\n      <td>NaN</td>\n      <td>16598</td>\n    </tr>\n  </tbody>\n</table>\n<p>101 rows × 7 columns</p>\n</div>"
     },
     "metadata": {},
     "execution_count": 18
    }
   ],
   "source": [
    "df_municipalities = fmp.get_municipalities_df()\n",
    "df_municipalities"
   ]
  },
  {
   "cell_type": "code",
   "execution_count": 19,
   "metadata": {},
   "outputs": [
    {
     "output_type": "execute_result",
     "data": {
      "text/plain": [
       "           Gemeindename_x Einwohner     Gemeindename_y  Bezirks_Nr  \\\n",
       "BFS_Nr                                                               \n",
       "3506          Vaz/Obervaz      2780        Vaz/Obervaz        1841   \n",
       "3513         Lantsch/Lenz       535       Lantsch/Lenz        1841   \n",
       "3514       Schmitten (GR)       234     Schmitten (GR)        1841   \n",
       "3542         Albula/Alvra      1310       Albula/Alvra        1841   \n",
       "3543               Surses      2356             Surses        1841   \n",
       "...                   ...       ...                ...         ...   \n",
       "3983      Medel (Lucmagn)       362    Medel (Lucmagn)        1850   \n",
       "3985              Sumvitg      1158            Sumvitg        1850   \n",
       "3986             Tujetsch      1238           Tujetsch        1850   \n",
       "3987                 Trun      1170               Trun        1850   \n",
       "3988    Obersaxen Mundaun      1188  Obersaxen Mundaun        1850   \n",
       "\n",
       "       Bezirksname Kanton Aufnahmedatum  Aufhebungsdatum  Hist_Nr  \n",
       "BFS_Nr                                                             \n",
       "3506        Albula     GR    01.01.2017              NaN    15962  \n",
       "3513        Albula     GR    01.01.2017              NaN    15963  \n",
       "3514        Albula     GR    01.01.2017              NaN    15964  \n",
       "3542        Albula     GR    01.01.2017              NaN    16062  \n",
       "3543        Albula     GR    01.01.2017              NaN    16068  \n",
       "...            ...    ...           ...              ...      ...  \n",
       "3983      Surselva     GR    01.01.2017              NaN    16040  \n",
       "3985      Surselva     GR    01.01.2017              NaN    16041  \n",
       "3986      Surselva     GR    01.01.2017              NaN    16042  \n",
       "3987      Surselva     GR    01.01.2017              NaN    16056  \n",
       "3988      Surselva     GR    01.01.2017              NaN    16069  \n",
       "\n",
       "[100 rows x 9 columns]"
      ],
      "text/html": "<div>\n<style scoped>\n    .dataframe tbody tr th:only-of-type {\n        vertical-align: middle;\n    }\n\n    .dataframe tbody tr th {\n        vertical-align: top;\n    }\n\n    .dataframe thead th {\n        text-align: right;\n    }\n</style>\n<table border=\"1\" class=\"dataframe\">\n  <thead>\n    <tr style=\"text-align: right;\">\n      <th></th>\n      <th>Gemeindename_x</th>\n      <th>Einwohner</th>\n      <th>Gemeindename_y</th>\n      <th>Bezirks_Nr</th>\n      <th>Bezirksname</th>\n      <th>Kanton</th>\n      <th>Aufnahmedatum</th>\n      <th>Aufhebungsdatum</th>\n      <th>Hist_Nr</th>\n    </tr>\n    <tr>\n      <th>BFS_Nr</th>\n      <th></th>\n      <th></th>\n      <th></th>\n      <th></th>\n      <th></th>\n      <th></th>\n      <th></th>\n      <th></th>\n      <th></th>\n    </tr>\n  </thead>\n  <tbody>\n    <tr>\n      <th>3506</th>\n      <td>Vaz/Obervaz</td>\n      <td>2780</td>\n      <td>Vaz/Obervaz</td>\n      <td>1841</td>\n      <td>Albula</td>\n      <td>GR</td>\n      <td>01.01.2017</td>\n      <td>NaN</td>\n      <td>15962</td>\n    </tr>\n    <tr>\n      <th>3513</th>\n      <td>Lantsch/Lenz</td>\n      <td>535</td>\n      <td>Lantsch/Lenz</td>\n      <td>1841</td>\n      <td>Albula</td>\n      <td>GR</td>\n      <td>01.01.2017</td>\n      <td>NaN</td>\n      <td>15963</td>\n    </tr>\n    <tr>\n      <th>3514</th>\n      <td>Schmitten (GR)</td>\n      <td>234</td>\n      <td>Schmitten (GR)</td>\n      <td>1841</td>\n      <td>Albula</td>\n      <td>GR</td>\n      <td>01.01.2017</td>\n      <td>NaN</td>\n      <td>15964</td>\n    </tr>\n    <tr>\n      <th>3542</th>\n      <td>Albula/Alvra</td>\n      <td>1310</td>\n      <td>Albula/Alvra</td>\n      <td>1841</td>\n      <td>Albula</td>\n      <td>GR</td>\n      <td>01.01.2017</td>\n      <td>NaN</td>\n      <td>16062</td>\n    </tr>\n    <tr>\n      <th>3543</th>\n      <td>Surses</td>\n      <td>2356</td>\n      <td>Surses</td>\n      <td>1841</td>\n      <td>Albula</td>\n      <td>GR</td>\n      <td>01.01.2017</td>\n      <td>NaN</td>\n      <td>16068</td>\n    </tr>\n    <tr>\n      <th>...</th>\n      <td>...</td>\n      <td>...</td>\n      <td>...</td>\n      <td>...</td>\n      <td>...</td>\n      <td>...</td>\n      <td>...</td>\n      <td>...</td>\n      <td>...</td>\n    </tr>\n    <tr>\n      <th>3983</th>\n      <td>Medel (Lucmagn)</td>\n      <td>362</td>\n      <td>Medel (Lucmagn)</td>\n      <td>1850</td>\n      <td>Surselva</td>\n      <td>GR</td>\n      <td>01.01.2017</td>\n      <td>NaN</td>\n      <td>16040</td>\n    </tr>\n    <tr>\n      <th>3985</th>\n      <td>Sumvitg</td>\n      <td>1158</td>\n      <td>Sumvitg</td>\n      <td>1850</td>\n      <td>Surselva</td>\n      <td>GR</td>\n      <td>01.01.2017</td>\n      <td>NaN</td>\n      <td>16041</td>\n    </tr>\n    <tr>\n      <th>3986</th>\n      <td>Tujetsch</td>\n      <td>1238</td>\n      <td>Tujetsch</td>\n      <td>1850</td>\n      <td>Surselva</td>\n      <td>GR</td>\n      <td>01.01.2017</td>\n      <td>NaN</td>\n      <td>16042</td>\n    </tr>\n    <tr>\n      <th>3987</th>\n      <td>Trun</td>\n      <td>1170</td>\n      <td>Trun</td>\n      <td>1850</td>\n      <td>Surselva</td>\n      <td>GR</td>\n      <td>01.01.2017</td>\n      <td>NaN</td>\n      <td>16056</td>\n    </tr>\n    <tr>\n      <th>3988</th>\n      <td>Obersaxen Mundaun</td>\n      <td>1188</td>\n      <td>Obersaxen Mundaun</td>\n      <td>1850</td>\n      <td>Surselva</td>\n      <td>GR</td>\n      <td>01.01.2017</td>\n      <td>NaN</td>\n      <td>16069</td>\n    </tr>\n  </tbody>\n</table>\n<p>100 rows × 9 columns</p>\n</div>"
     },
     "metadata": {},
     "execution_count": 19
    }
   ],
   "source": [
    "df_all = pd.merge(df_population_for_bfsNr, df_municipalities , how='inner', left_on='BFS_Nr', right_on='BFS_Nr')\n",
    "# df_all = df.loc[:,~df.columns.duplicated()]\n",
    "df_all"
   ]
  },
  {
   "cell_type": "code",
   "execution_count": 20,
   "metadata": {},
   "outputs": [
    {
     "output_type": "execute_result",
     "data": {
      "text/plain": [
       "          Datum                       Region  Neue_Faelle  Aktive_Faelle  \\\n",
       "0    2020-02-26                       Albula            0              0   \n",
       "1    2020-02-26                      Bernina            0              0   \n",
       "2    2020-02-26  Engiadina Bassa/Val Müstair            0              0   \n",
       "3    2020-02-26                      Imboden            0              0   \n",
       "4    2020-02-26                    Landquart            0              0   \n",
       "...         ...                          ...          ...            ...   \n",
       "1995 2020-08-10                      Imboden            0              4   \n",
       "1996 2020-08-10                    Landquart            0              0   \n",
       "1997 2020-08-10                       Maloja            1              4   \n",
       "1998 2020-08-10                        Moesa            0              0   \n",
       "1999 2020-08-10                      Plessur            2              3   \n",
       "\n",
       "      Faelle__kumuliert_  Verstorbene  Verstorbene__kumuliert_   FID  \n",
       "0                      0            0                        0     1  \n",
       "1                      0            0                        0     2  \n",
       "2                      0            0                        0     3  \n",
       "3                      0            0                        0     4  \n",
       "4                      0            0                        0     5  \n",
       "...                  ...          ...                      ...   ...  \n",
       "1995                  50            0                        0  1996  \n",
       "1996                  95            0                        5  1997  \n",
       "1997                 239            0                        9  1998  \n",
       "1998                  85            0                       11  1999  \n",
       "1999                 138            0                       11  2000  \n",
       "\n",
       "[2000 rows x 8 columns]"
      ],
      "text/html": "<div>\n<style scoped>\n    .dataframe tbody tr th:only-of-type {\n        vertical-align: middle;\n    }\n\n    .dataframe tbody tr th {\n        vertical-align: top;\n    }\n\n    .dataframe thead th {\n        text-align: right;\n    }\n</style>\n<table border=\"1\" class=\"dataframe\">\n  <thead>\n    <tr style=\"text-align: right;\">\n      <th></th>\n      <th>Datum</th>\n      <th>Region</th>\n      <th>Neue_Faelle</th>\n      <th>Aktive_Faelle</th>\n      <th>Faelle__kumuliert_</th>\n      <th>Verstorbene</th>\n      <th>Verstorbene__kumuliert_</th>\n      <th>FID</th>\n    </tr>\n  </thead>\n  <tbody>\n    <tr>\n      <th>0</th>\n      <td>2020-02-26</td>\n      <td>Albula</td>\n      <td>0</td>\n      <td>0</td>\n      <td>0</td>\n      <td>0</td>\n      <td>0</td>\n      <td>1</td>\n    </tr>\n    <tr>\n      <th>1</th>\n      <td>2020-02-26</td>\n      <td>Bernina</td>\n      <td>0</td>\n      <td>0</td>\n      <td>0</td>\n      <td>0</td>\n      <td>0</td>\n      <td>2</td>\n    </tr>\n    <tr>\n      <th>2</th>\n      <td>2020-02-26</td>\n      <td>Engiadina Bassa/Val Müstair</td>\n      <td>0</td>\n      <td>0</td>\n      <td>0</td>\n      <td>0</td>\n      <td>0</td>\n      <td>3</td>\n    </tr>\n    <tr>\n      <th>3</th>\n      <td>2020-02-26</td>\n      <td>Imboden</td>\n      <td>0</td>\n      <td>0</td>\n      <td>0</td>\n      <td>0</td>\n      <td>0</td>\n      <td>4</td>\n    </tr>\n    <tr>\n      <th>4</th>\n      <td>2020-02-26</td>\n      <td>Landquart</td>\n      <td>0</td>\n      <td>0</td>\n      <td>0</td>\n      <td>0</td>\n      <td>0</td>\n      <td>5</td>\n    </tr>\n    <tr>\n      <th>...</th>\n      <td>...</td>\n      <td>...</td>\n      <td>...</td>\n      <td>...</td>\n      <td>...</td>\n      <td>...</td>\n      <td>...</td>\n      <td>...</td>\n    </tr>\n    <tr>\n      <th>1995</th>\n      <td>2020-08-10</td>\n      <td>Imboden</td>\n      <td>0</td>\n      <td>4</td>\n      <td>50</td>\n      <td>0</td>\n      <td>0</td>\n      <td>1996</td>\n    </tr>\n    <tr>\n      <th>1996</th>\n      <td>2020-08-10</td>\n      <td>Landquart</td>\n      <td>0</td>\n      <td>0</td>\n      <td>95</td>\n      <td>0</td>\n      <td>5</td>\n      <td>1997</td>\n    </tr>\n    <tr>\n      <th>1997</th>\n      <td>2020-08-10</td>\n      <td>Maloja</td>\n      <td>1</td>\n      <td>4</td>\n      <td>239</td>\n      <td>0</td>\n      <td>9</td>\n      <td>1998</td>\n    </tr>\n    <tr>\n      <th>1998</th>\n      <td>2020-08-10</td>\n      <td>Moesa</td>\n      <td>0</td>\n      <td>0</td>\n      <td>85</td>\n      <td>0</td>\n      <td>11</td>\n      <td>1999</td>\n    </tr>\n    <tr>\n      <th>1999</th>\n      <td>2020-08-10</td>\n      <td>Plessur</td>\n      <td>2</td>\n      <td>3</td>\n      <td>138</td>\n      <td>0</td>\n      <td>11</td>\n      <td>2000</td>\n    </tr>\n  </tbody>\n</table>\n<p>2000 rows × 8 columns</p>\n</div>"
     },
     "metadata": {},
     "execution_count": 20
    }
   ],
   "source": [
    "df_cases"
   ]
  },
  {
   "source": [
    "## Mapping von Region auf Bezirksnamen"
   ],
   "cell_type": "markdown",
   "metadata": {}
  },
  {
   "cell_type": "code",
   "execution_count": 28,
   "metadata": {},
   "outputs": [
    {
     "output_type": "stream",
     "name": "stdout",
     "text": [
      "{'Engiadina B./Val Müstair', 'Albula', 'Plessur', 'Landquart', 'Imboden', 'Moesa', 'Prättigau / Davos', 'Bernina', 'Viamala', 'Surselva', 'Maloja'}\n11\n"
     ]
    }
   ],
   "source": [
    "set_bezirksnamen = set(sorted(df_municipalities['Bezirksname'])) # From Municipality Stammdaten\n",
    "print(set_bezirksnamen)\n",
    "print(len(set_bezirksnamen))"
   ]
  },
  {
   "cell_type": "code",
   "execution_count": 29,
   "metadata": {},
   "outputs": [
    {
     "output_type": "stream",
     "name": "stdout",
     "text": [
      "{'ohne Wohnsitz', 'Albula', 'Plessur', 'Landquart', 'Imboden', 'Moesa', 'Bernina', 'Viamala', 'Engiadina Bassa/Val Müstair', 'Surselva', 'Maloja', 'Prättigau/Davos'}\n12\n"
     ]
    }
   ],
   "source": [
    "set_regionen = set(sorted(df_cases['Region'])) # From Cases, i.e. the region a case belongs to\n",
    "print(set_regionen)\n",
    "print(len(set_regionen))"
   ]
  },
  {
   "source": [
    "### Was machen wir mit 'ohne Wohnsitz'? \n",
    "Um die Kantonszahlen nicht zu verfälschen, müssten sie evtl. auch verteilt werden auf die Bezirke..."
   ],
   "cell_type": "markdown",
   "metadata": {}
  },
  {
   "cell_type": "code",
   "execution_count": 35,
   "metadata": {},
   "outputs": [],
   "source": [
    "# Region (from Cases): Bezirksname (from Municipalities)\n",
    "dict_bezirks_mapping = {'Albula': 'Albula',\n",
    " 'Bernina': 'Bernina',\n",
    " 'Engiadina Bassa/Val Müstair': 'Engiadina B./Val Müstair',\n",
    " 'Imboden': 'Imboden',\n",
    " 'Landquart': 'Landquart',\n",
    " 'Maloja': 'Maloja',\n",
    " 'Moesa': 'Moesa',\n",
    " 'Plessur': 'Plessur',\n",
    " 'Prättigau/Davos': 'Prättigau / Davos',\n",
    " 'Surselva': 'Surselva',\n",
    " 'Viamala': 'Viamala'}"
   ]
  },
  {
   "source": [
    "Neue Spalte 'Bezirksname' welche anhand 'Region' gemapped wurde:"
   ],
   "cell_type": "markdown",
   "metadata": {}
  },
  {
   "cell_type": "code",
   "execution_count": 38,
   "metadata": {},
   "outputs": [
    {
     "output_type": "execute_result",
     "data": {
      "text/plain": [
       "          Datum                       Region  Neue_Faelle  Aktive_Faelle  \\\n",
       "0    2020-02-26                       Albula            0              0   \n",
       "1    2020-02-26                      Bernina            0              0   \n",
       "2    2020-02-26  Engiadina Bassa/Val Müstair            0              0   \n",
       "3    2020-02-26                      Imboden            0              0   \n",
       "4    2020-02-26                    Landquart            0              0   \n",
       "...         ...                          ...          ...            ...   \n",
       "1995 2020-08-10                      Imboden            0              4   \n",
       "1996 2020-08-10                    Landquart            0              0   \n",
       "1997 2020-08-10                       Maloja            1              4   \n",
       "1998 2020-08-10                        Moesa            0              0   \n",
       "1999 2020-08-10                      Plessur            2              3   \n",
       "\n",
       "      Faelle__kumuliert_  Verstorbene  Verstorbene__kumuliert_   FID  \\\n",
       "0                      0            0                        0     1   \n",
       "1                      0            0                        0     2   \n",
       "2                      0            0                        0     3   \n",
       "3                      0            0                        0     4   \n",
       "4                      0            0                        0     5   \n",
       "...                  ...          ...                      ...   ...   \n",
       "1995                  50            0                        0  1996   \n",
       "1996                  95            0                        5  1997   \n",
       "1997                 239            0                        9  1998   \n",
       "1998                  85            0                       11  1999   \n",
       "1999                 138            0                       11  2000   \n",
       "\n",
       "                   Bezirksname  \n",
       "0                       Albula  \n",
       "1                      Bernina  \n",
       "2     Engiadina B./Val Müstair  \n",
       "3                      Imboden  \n",
       "4                    Landquart  \n",
       "...                        ...  \n",
       "1995                   Imboden  \n",
       "1996                 Landquart  \n",
       "1997                    Maloja  \n",
       "1998                     Moesa  \n",
       "1999                   Plessur  \n",
       "\n",
       "[2000 rows x 9 columns]"
      ],
      "text/html": "<div>\n<style scoped>\n    .dataframe tbody tr th:only-of-type {\n        vertical-align: middle;\n    }\n\n    .dataframe tbody tr th {\n        vertical-align: top;\n    }\n\n    .dataframe thead th {\n        text-align: right;\n    }\n</style>\n<table border=\"1\" class=\"dataframe\">\n  <thead>\n    <tr style=\"text-align: right;\">\n      <th></th>\n      <th>Datum</th>\n      <th>Region</th>\n      <th>Neue_Faelle</th>\n      <th>Aktive_Faelle</th>\n      <th>Faelle__kumuliert_</th>\n      <th>Verstorbene</th>\n      <th>Verstorbene__kumuliert_</th>\n      <th>FID</th>\n      <th>Bezirksname</th>\n    </tr>\n  </thead>\n  <tbody>\n    <tr>\n      <th>0</th>\n      <td>2020-02-26</td>\n      <td>Albula</td>\n      <td>0</td>\n      <td>0</td>\n      <td>0</td>\n      <td>0</td>\n      <td>0</td>\n      <td>1</td>\n      <td>Albula</td>\n    </tr>\n    <tr>\n      <th>1</th>\n      <td>2020-02-26</td>\n      <td>Bernina</td>\n      <td>0</td>\n      <td>0</td>\n      <td>0</td>\n      <td>0</td>\n      <td>0</td>\n      <td>2</td>\n      <td>Bernina</td>\n    </tr>\n    <tr>\n      <th>2</th>\n      <td>2020-02-26</td>\n      <td>Engiadina Bassa/Val Müstair</td>\n      <td>0</td>\n      <td>0</td>\n      <td>0</td>\n      <td>0</td>\n      <td>0</td>\n      <td>3</td>\n      <td>Engiadina B./Val Müstair</td>\n    </tr>\n    <tr>\n      <th>3</th>\n      <td>2020-02-26</td>\n      <td>Imboden</td>\n      <td>0</td>\n      <td>0</td>\n      <td>0</td>\n      <td>0</td>\n      <td>0</td>\n      <td>4</td>\n      <td>Imboden</td>\n    </tr>\n    <tr>\n      <th>4</th>\n      <td>2020-02-26</td>\n      <td>Landquart</td>\n      <td>0</td>\n      <td>0</td>\n      <td>0</td>\n      <td>0</td>\n      <td>0</td>\n      <td>5</td>\n      <td>Landquart</td>\n    </tr>\n    <tr>\n      <th>...</th>\n      <td>...</td>\n      <td>...</td>\n      <td>...</td>\n      <td>...</td>\n      <td>...</td>\n      <td>...</td>\n      <td>...</td>\n      <td>...</td>\n      <td>...</td>\n    </tr>\n    <tr>\n      <th>1995</th>\n      <td>2020-08-10</td>\n      <td>Imboden</td>\n      <td>0</td>\n      <td>4</td>\n      <td>50</td>\n      <td>0</td>\n      <td>0</td>\n      <td>1996</td>\n      <td>Imboden</td>\n    </tr>\n    <tr>\n      <th>1996</th>\n      <td>2020-08-10</td>\n      <td>Landquart</td>\n      <td>0</td>\n      <td>0</td>\n      <td>95</td>\n      <td>0</td>\n      <td>5</td>\n      <td>1997</td>\n      <td>Landquart</td>\n    </tr>\n    <tr>\n      <th>1997</th>\n      <td>2020-08-10</td>\n      <td>Maloja</td>\n      <td>1</td>\n      <td>4</td>\n      <td>239</td>\n      <td>0</td>\n      <td>9</td>\n      <td>1998</td>\n      <td>Maloja</td>\n    </tr>\n    <tr>\n      <th>1998</th>\n      <td>2020-08-10</td>\n      <td>Moesa</td>\n      <td>0</td>\n      <td>0</td>\n      <td>85</td>\n      <td>0</td>\n      <td>11</td>\n      <td>1999</td>\n      <td>Moesa</td>\n    </tr>\n    <tr>\n      <th>1999</th>\n      <td>2020-08-10</td>\n      <td>Plessur</td>\n      <td>2</td>\n      <td>3</td>\n      <td>138</td>\n      <td>0</td>\n      <td>11</td>\n      <td>2000</td>\n      <td>Plessur</td>\n    </tr>\n  </tbody>\n</table>\n<p>2000 rows × 9 columns</p>\n</div>"
     },
     "metadata": {},
     "execution_count": 38
    }
   ],
   "source": [
    "df_cases['Bezirksname'] = df_cases['Region'].apply(lambda region: dict_bezirks_mapping.get(region))\n",
    "df_cases"
   ]
  },
  {
   "source": [
    " Nicht gefundene Einträge (z.B. 'ohne Wohnsitz') werden mit None abgefüllt:"
   ],
   "cell_type": "markdown",
   "metadata": {}
  },
  {
   "cell_type": "code",
   "execution_count": 42,
   "metadata": {},
   "outputs": [
    {
     "output_type": "execute_result",
     "data": {
      "text/plain": [
       "          Datum         Region  Neue_Faelle  Aktive_Faelle  \\\n",
       "11   2020-02-26  ohne Wohnsitz            2              2   \n",
       "23   2020-02-27  ohne Wohnsitz            0              2   \n",
       "35   2020-02-28  ohne Wohnsitz            4              6   \n",
       "47   2020-02-29  ohne Wohnsitz            0              6   \n",
       "59   2020-03-01  ohne Wohnsitz            0              6   \n",
       "...         ...            ...          ...            ...   \n",
       "1943 2020-08-05  ohne Wohnsitz            0              0   \n",
       "1955 2020-08-06  ohne Wohnsitz            1              1   \n",
       "1967 2020-08-07  ohne Wohnsitz            0              1   \n",
       "1979 2020-08-08  ohne Wohnsitz            1              2   \n",
       "1991 2020-08-09  ohne Wohnsitz            0              2   \n",
       "\n",
       "      Faelle__kumuliert_  Verstorbene  Verstorbene__kumuliert_   FID  \\\n",
       "11                     2            0                        0    12   \n",
       "23                     2            0                        0    24   \n",
       "35                     6            0                        0    36   \n",
       "47                     6            0                        0    48   \n",
       "59                     6            0                        0    60   \n",
       "...                  ...          ...                      ...   ...   \n",
       "1943                  65            0                        1  1944   \n",
       "1955                  66            0                        1  1956   \n",
       "1967                  66            0                        1  1968   \n",
       "1979                  67            0                        1  1980   \n",
       "1991                  67            0                        1  1992   \n",
       "\n",
       "     Bezirksname  \n",
       "11          None  \n",
       "23          None  \n",
       "35          None  \n",
       "47          None  \n",
       "59          None  \n",
       "...          ...  \n",
       "1943        None  \n",
       "1955        None  \n",
       "1967        None  \n",
       "1979        None  \n",
       "1991        None  \n",
       "\n",
       "[166 rows x 9 columns]"
      ],
      "text/html": "<div>\n<style scoped>\n    .dataframe tbody tr th:only-of-type {\n        vertical-align: middle;\n    }\n\n    .dataframe tbody tr th {\n        vertical-align: top;\n    }\n\n    .dataframe thead th {\n        text-align: right;\n    }\n</style>\n<table border=\"1\" class=\"dataframe\">\n  <thead>\n    <tr style=\"text-align: right;\">\n      <th></th>\n      <th>Datum</th>\n      <th>Region</th>\n      <th>Neue_Faelle</th>\n      <th>Aktive_Faelle</th>\n      <th>Faelle__kumuliert_</th>\n      <th>Verstorbene</th>\n      <th>Verstorbene__kumuliert_</th>\n      <th>FID</th>\n      <th>Bezirksname</th>\n    </tr>\n  </thead>\n  <tbody>\n    <tr>\n      <th>11</th>\n      <td>2020-02-26</td>\n      <td>ohne Wohnsitz</td>\n      <td>2</td>\n      <td>2</td>\n      <td>2</td>\n      <td>0</td>\n      <td>0</td>\n      <td>12</td>\n      <td>None</td>\n    </tr>\n    <tr>\n      <th>23</th>\n      <td>2020-02-27</td>\n      <td>ohne Wohnsitz</td>\n      <td>0</td>\n      <td>2</td>\n      <td>2</td>\n      <td>0</td>\n      <td>0</td>\n      <td>24</td>\n      <td>None</td>\n    </tr>\n    <tr>\n      <th>35</th>\n      <td>2020-02-28</td>\n      <td>ohne Wohnsitz</td>\n      <td>4</td>\n      <td>6</td>\n      <td>6</td>\n      <td>0</td>\n      <td>0</td>\n      <td>36</td>\n      <td>None</td>\n    </tr>\n    <tr>\n      <th>47</th>\n      <td>2020-02-29</td>\n      <td>ohne Wohnsitz</td>\n      <td>0</td>\n      <td>6</td>\n      <td>6</td>\n      <td>0</td>\n      <td>0</td>\n      <td>48</td>\n      <td>None</td>\n    </tr>\n    <tr>\n      <th>59</th>\n      <td>2020-03-01</td>\n      <td>ohne Wohnsitz</td>\n      <td>0</td>\n      <td>6</td>\n      <td>6</td>\n      <td>0</td>\n      <td>0</td>\n      <td>60</td>\n      <td>None</td>\n    </tr>\n    <tr>\n      <th>...</th>\n      <td>...</td>\n      <td>...</td>\n      <td>...</td>\n      <td>...</td>\n      <td>...</td>\n      <td>...</td>\n      <td>...</td>\n      <td>...</td>\n      <td>...</td>\n    </tr>\n    <tr>\n      <th>1943</th>\n      <td>2020-08-05</td>\n      <td>ohne Wohnsitz</td>\n      <td>0</td>\n      <td>0</td>\n      <td>65</td>\n      <td>0</td>\n      <td>1</td>\n      <td>1944</td>\n      <td>None</td>\n    </tr>\n    <tr>\n      <th>1955</th>\n      <td>2020-08-06</td>\n      <td>ohne Wohnsitz</td>\n      <td>1</td>\n      <td>1</td>\n      <td>66</td>\n      <td>0</td>\n      <td>1</td>\n      <td>1956</td>\n      <td>None</td>\n    </tr>\n    <tr>\n      <th>1967</th>\n      <td>2020-08-07</td>\n      <td>ohne Wohnsitz</td>\n      <td>0</td>\n      <td>1</td>\n      <td>66</td>\n      <td>0</td>\n      <td>1</td>\n      <td>1968</td>\n      <td>None</td>\n    </tr>\n    <tr>\n      <th>1979</th>\n      <td>2020-08-08</td>\n      <td>ohne Wohnsitz</td>\n      <td>1</td>\n      <td>2</td>\n      <td>67</td>\n      <td>0</td>\n      <td>1</td>\n      <td>1980</td>\n      <td>None</td>\n    </tr>\n    <tr>\n      <th>1991</th>\n      <td>2020-08-09</td>\n      <td>ohne Wohnsitz</td>\n      <td>0</td>\n      <td>2</td>\n      <td>67</td>\n      <td>0</td>\n      <td>1</td>\n      <td>1992</td>\n      <td>None</td>\n    </tr>\n  </tbody>\n</table>\n<p>166 rows × 9 columns</p>\n</div>"
     },
     "metadata": {},
     "execution_count": 42
    }
   ],
   "source": [
    "df_cases[df_cases['Bezirksname'].isnull()]"
   ]
  },
  {
   "cell_type": "code",
   "execution_count": null,
   "metadata": {},
   "outputs": [],
   "source": []
  }
 ]
}